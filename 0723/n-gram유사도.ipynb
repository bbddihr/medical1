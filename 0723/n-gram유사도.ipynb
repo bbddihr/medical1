{
 "cells": [
  {
   "cell_type": "code",
   "execution_count": 1,
   "metadata": {},
   "outputs": [],
   "source": [
    "from gensim.models import Word2Vec\n",
    "from konlpy.tag import Komoran\n",
    "import time\n"
   ]
  },
  {
   "cell_type": "code",
   "execution_count": 20,
   "metadata": {},
   "outputs": [],
   "source": [
    "def read_review_data(filename):\n",
    "    with open(filename, 'r') as f:\n",
    "        data=[line.split('\\t') for line in f.read().splitlines()]\n",
    "        data=data[1:]\n",
    "    return data"
   ]
  },
  {
   "cell_type": "code",
   "execution_count": 21,
   "metadata": {},
   "outputs": [],
   "source": [
    "start=time.time()"
   ]
  },
  {
   "cell_type": "code",
   "execution_count": 22,
   "metadata": {},
   "outputs": [
    {
     "name": "stdout",
     "output_type": "stream",
     "text": [
      "200000\n"
     ]
    }
   ],
   "source": [
    "review_data=read_review_data('./ratings.txt')\n",
    "print(len(review_data))"
   ]
  },
  {
   "cell_type": "code",
   "execution_count": 23,
   "metadata": {},
   "outputs": [
    {
     "name": "stdout",
     "output_type": "stream",
     "text": [
      "['8112052', '어릴때보고 지금다시봐도 재밌어요ㅋㅋ', '1']\n"
     ]
    }
   ],
   "source": [
    "print(review_data[0])"
   ]
  },
  {
   "cell_type": "code",
   "execution_count": 24,
   "metadata": {},
   "outputs": [],
   "source": [
    "komoran=Komoran()\n",
    "docs= [komoran.nouns(sentence[1]) for sentence in review_data]"
   ]
  },
  {
   "cell_type": "code",
   "execution_count": 26,
   "metadata": {},
   "outputs": [],
   "source": [
    "model=Word2Vec(sentences=docs, vector_size=200, window=4, hs=1, min_count=2, sg=1)\n",
    "model.save('nvmc.model')"
   ]
  },
  {
   "cell_type": "code",
   "execution_count": 27,
   "metadata": {},
   "outputs": [
    {
     "name": "stdout",
     "output_type": "stream",
     "text": [
      "corpus_count:  200000\n",
      "corpus_total_words :  1076896\n"
     ]
    }
   ],
   "source": [
    "print(\"corpus_count: \", model.corpus_count)\n",
    "print(\"corpus_total_words : \",model.corpus_total_words)"
   ]
  },
  {
   "cell_type": "code",
   "execution_count": 32,
   "metadata": {},
   "outputs": [
    {
     "name": "stdout",
     "output_type": "stream",
     "text": [
      "corpus_total_words:  1076896\n",
      "일요일 = 월요일\t 0.6507668\n",
      "안성기 = 배우\t 0.5689335\n",
      "대기업 = 삼성\t 0.5282509\n",
      "일요일 != 삼성\t 0.16066258\n",
      "히어로 != 삼성\t 0.16068685\n",
      "[('고준희', 0.7176288366317749), ('씨야', 0.7157871127128601), ('장미희', 0.7138710618019104), ('킬리언 머피', 0.7110390663146973), ('정재영', 0.7069952487945557)]\n",
      "[('캐리비안의 해적', 0.6713436841964722), ('나니아 연대기', 0.6577498912811279), ('더 울버린', 0.6504627466201782), ('꽃보다 시리즈', 0.6454271674156189), ('X맨', 0.6427968144416809)]\n"
     ]
    }
   ],
   "source": [
    "from gensim.models import Word2Vec \n",
    "\n",
    "#모델 로딩\n",
    "model = Word2Vec.load('nvmc.model')\n",
    "print(\"corpus_total_words: \",model.corpus_total_words)\n",
    "\n",
    "#'사랑'이란 단어로 생성한 단어임베딩 벡터\n",
    "#print('사랑: ',model.wv['사랑'])\n",
    "\n",
    "#단어 유사도 계싼\n",
    "print(\"일요일 = 월요일\\t\",model.wv.similarity(w1='일요일', w2='월요일'))\n",
    "print(\"안성기 = 배우\\t\",model.wv.similarity(w1='안성기', w2='배우'))\n",
    "print(\"대기업 = 삼성\\t\",model.wv.similarity(w1='대기업', w2='삼성'))\n",
    "print(\"일요일 != 삼성\\t\",model.wv.similarity(w1='일요일', w2='삼성'))\n",
    "print(\"히어로 != 삼성\\t\",model.wv.similarity(w1='히어로', w2='삼성'))\n",
    "\n",
    "#가장 유사한 단어 추출\n",
    "print(model.wv.most_similar(\"안성기\",topn=5))\n",
    "print(model.wv.most_similar(\"시리즈\",topn=5))"
   ]
  },
  {
   "cell_type": "markdown",
   "metadata": {},
   "source": [
    "n-gram 유사도 계산"
   ]
  },
  {
   "cell_type": "code",
   "execution_count": 33,
   "metadata": {},
   "outputs": [],
   "source": [
    "from konlpy.tag import Komoran\n",
    "\n",
    "#어절단위 n-gram\n",
    "def word_ngram(bow,num_gram):\n",
    "    text=tuple(bow)\n",
    "    ngrams = [text[x:x +num_gram] for x in range(0,len(text))]\n",
    "    return tuple(ngrams)\n",
    "\n",
    "#유사도 계산\n",
    "def similarity(doc1, doc2):\n",
    "    cnt = 0\n",
    "    for token in doc1:\n",
    "        if token in doc2:\n",
    "            cnt = cnt + 1\n",
    "    return cnt/len(doc1)"
   ]
  },
  {
   "cell_type": "code",
   "execution_count": 34,
   "metadata": {},
   "outputs": [
    {
     "name": "stdout",
     "output_type": "stream",
     "text": [
      "(('6월', '뉴턴'), ('뉴턴', '선생님'), ('선생님', '제안'), ('제안', '트리니티'), ('트리니티', '입학'), ('입학',))\n",
      "(('6월', '뉴턴'), ('뉴턴', '선생님'), ('선생님', '제안'), ('제안', '대학교'), ('대학교', '입학'), ('입학',))\n",
      "0.6666666666666666\n",
      "0.0\n"
     ]
    }
   ],
   "source": [
    "#문장정의\n",
    "sentence1 = '6월에 뉴턴은 선생님의 제안으로 트리니티에 입학했다.'\n",
    "sentence2 = '6월에 뉴턴은 선생님의 제안으로 대학교에 입학했다.'\n",
    "sentence3 = '나는 맛있는 밥을 뉴턴 선생님과 함께 먹었다.'\n",
    "\n",
    "komoran = Komoran()\n",
    "bow1= komoran.nouns(sentence1)\n",
    "bow2= komoran.nouns(sentence2)\n",
    "bow3= komoran.nouns(sentence3)\n",
    "\n",
    "#단어 n-gram 토큰 추출\n",
    "doc1 = word_ngram(bow1,2)  #2-gram방식으로 추출\n",
    "doc2 = word_ngram(bow2,2)\n",
    "doc3 = word_ngram(bow3,2)\n",
    "\n",
    "#추출된 n-gram 토큰 출력\n",
    "print(doc1)\n",
    "print(doc2)\n",
    "\n",
    "#유사도 계산\n",
    "r1=similarity(doc1, doc2)\n",
    "r2=similarity(doc3, doc1)\n",
    "\n",
    "#계산된 유사도 출력\n",
    "print(r1)\n",
    "print(r2)\n"
   ]
  },
  {
   "cell_type": "markdown",
   "metadata": {},
   "source": [
    "3개 문장간의 코사인 유사도 계산"
   ]
  },
  {
   "cell_type": "code",
   "execution_count": 35,
   "metadata": {},
   "outputs": [],
   "source": [
    "from konlpy.tag import Komoran \n",
    "import numpy as np\n",
    "from numpy import dot\n",
    "from numpy.linalg import norm"
   ]
  },
  {
   "cell_type": "code",
   "execution_count": 38,
   "metadata": {},
   "outputs": [],
   "source": [
    "#코사인 유사도 계산\n",
    "def cos_sim(vec1,vec2):\n",
    "    return dot(vec1,vec2) /(norm(vec1)*norm(vec2))\n",
    "\n",
    "#TDM만들기\n",
    "def make_term_doc_mat(sentence_bow, word_dics):\n",
    "    freq_mat = {}\n",
    "\n",
    "    for word in word_dics:\n",
    "        freq_mat[word]=0\n",
    "\n",
    "    for word in word_dics:\n",
    "        if word in sentence_bow:\n",
    "            freq_mat[word]+= 1\n",
    "\n",
    "    return freq_mat\n",
    "\n",
    "#단어 벡터word vector만들기\n",
    "def make_vector(tdm):\n",
    "    vec=[]\n",
    "    for key in tdm:\n",
    "        vec.append(tdm[key])\n",
    "    return vec\n"
   ]
  },
  {
   "cell_type": "code",
   "execution_count": 39,
   "metadata": {},
   "outputs": [],
   "source": [
    "#문장정의\n",
    "sentence1 = '6월에 뉴턴은 선생님의 제안으로 트리니티에 입학했다.'\n",
    "sentence2 = '6월에 뉴턴은 선생님의 제안으로 대학교에 입학했다.'\n",
    "sentence3 = '나는 맛있는 밥을 뉴턴 선생님과 함께 먹었다.'\n",
    "\n",
    "komoran = Komoran()\n",
    "bow1= komoran.nouns(sentence1)\n",
    "bow2= komoran.nouns(sentence2)\n",
    "bow3= komoran.nouns(sentence3)\n",
    "\n",
    "#단어묶음 리스트를 하나로 합침\n",
    "bow= bow1+bow2+bow3\n",
    "\n",
    "#단어묶음에서 중복을 제거해 단어 사전 구축\n",
    "word_dics=[]\n",
    "for token in bow:\n",
    "    if token not in word_dics:\n",
    "        word_dics.append(token)"
   ]
  },
  {
   "cell_type": "code",
   "execution_count": 40,
   "metadata": {},
   "outputs": [
    {
     "name": "stdout",
     "output_type": "stream",
     "text": [
      "{'6월': 1, '뉴턴': 1, '선생님': 1, '제안': 1, '트리니티': 1, '입학': 1, '대학교': 0, '밥': 0, '선생': 0, '님과 함께': 0}\n",
      "{'6월': 1, '뉴턴': 1, '선생님': 1, '제안': 1, '트리니티': 0, '입학': 1, '대학교': 1, '밥': 0, '선생': 0, '님과 함께': 0}\n",
      "{'6월': 0, '뉴턴': 1, '선생님': 0, '제안': 0, '트리니티': 0, '입학': 0, '대학교': 0, '밥': 1, '선생': 1, '님과 함께': 1}\n"
     ]
    }
   ],
   "source": [
    "#문장별 단어 문서 행렬 계산\n",
    "freq_list1=make_term_doc_mat(bow1,word_dics)\n",
    "freq_list2=make_term_doc_mat(bow2,word_dics)\n",
    "freq_list3=make_term_doc_mat(bow3,word_dics)\n",
    "print(freq_list1)\n",
    "print(freq_list2)\n",
    "print(freq_list3)"
   ]
  },
  {
   "cell_type": "code",
   "execution_count": 47,
   "metadata": {},
   "outputs": [
    {
     "name": "stdout",
     "output_type": "stream",
     "text": [
      "[1 1 1 1 1 1 0 0 0 0]\n",
      "[1 1 1 1 0 1 1 0 0 0]\n",
      "[0 1 0 0 0 0 0 1 1 1]\n"
     ]
    }
   ],
   "source": [
    "#문장 벡터 생성\n",
    "doc1=np.array(make_vector(freq_list1))\n",
    "doc2=np.array(make_vector(freq_list2))\n",
    "doc3=np.array(make_vector(freq_list3))\n",
    "print(doc1)\n",
    "print(doc2)\n",
    "print(doc3)"
   ]
  },
  {
   "cell_type": "code",
   "execution_count": 44,
   "metadata": {},
   "outputs": [
    {
     "name": "stdout",
     "output_type": "stream",
     "text": [
      "0.8333333333333335\n",
      "0.20412414523193154\n"
     ]
    }
   ],
   "source": [
    "#코사인 유사도 계산\n",
    "r1= cos_sim(doc1,doc2)\n",
    "r2= cos_sim(doc3,doc1)\n",
    "print(r1)\n",
    "print(r2)"
   ]
  },
  {
   "cell_type": "code",
   "execution_count": null,
   "metadata": {},
   "outputs": [],
   "source": []
  },
  {
   "cell_type": "code",
   "execution_count": null,
   "metadata": {},
   "outputs": [],
   "source": []
  },
  {
   "cell_type": "code",
   "execution_count": null,
   "metadata": {},
   "outputs": [],
   "source": []
  },
  {
   "cell_type": "code",
   "execution_count": null,
   "metadata": {},
   "outputs": [],
   "source": []
  },
  {
   "cell_type": "code",
   "execution_count": null,
   "metadata": {},
   "outputs": [],
   "source": []
  },
  {
   "cell_type": "code",
   "execution_count": null,
   "metadata": {},
   "outputs": [],
   "source": []
  },
  {
   "cell_type": "code",
   "execution_count": null,
   "metadata": {},
   "outputs": [],
   "source": []
  },
  {
   "cell_type": "code",
   "execution_count": null,
   "metadata": {},
   "outputs": [],
   "source": []
  }
 ],
 "metadata": {
  "kernelspec": {
   "display_name": "base",
   "language": "python",
   "name": "python3"
  },
  "language_info": {
   "codemirror_mode": {
    "name": "ipython",
    "version": 3
   },
   "file_extension": ".py",
   "mimetype": "text/x-python",
   "name": "python",
   "nbconvert_exporter": "python",
   "pygments_lexer": "ipython3",
   "version": "3.11.7"
  }
 },
 "nbformat": 4,
 "nbformat_minor": 2
}
