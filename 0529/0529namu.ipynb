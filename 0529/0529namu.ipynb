{
 "cells": [
  {
   "cell_type": "code",
   "execution_count": 1,
   "metadata": {},
   "outputs": [],
   "source": [
    "import oracledb\n",
    "import requests\n",
    "import time\n",
    "import random\n",
    "from bs4 import BeautifulSoup\n",
    "from selenium import webdriver\n",
    "from selenium.webdriver.common.by import By\n",
    "from selenium.webdriver.common.keys import Keys\n",
    "from selenium.webdriver.support.ui import WebDriverWait\n",
    "from selenium.webdriver.support import expected_conditions as EC"
   ]
  },
  {
   "cell_type": "code",
   "execution_count": 2,
   "metadata": {},
   "outputs": [],
   "source": [
    "headers={\"User-Agent\":\"Mozilla/5.0 (Windows NT 10.0; Win64; x64) AppleWebKit/537.36 (KHTML, like Gecko) Chrome/125.0.0.0 Safari/537.36 Edg/125.0.0.0\"}\n",
    "url='https://namu.wiki/RecentChanges'\n",
    "browser=webdriver.Chrome()   #iframe: 셀레니움으로 가져와야함.\n",
    "browser.get(url)\n",
    "\n",
    "#res=requests.get(url) 리퀘스트로 못가져옴, iframe은"
   ]
  },
  {
   "cell_type": "code",
   "execution_count": 3,
   "metadata": {},
   "outputs": [],
   "source": [
    "soup=BeautifulSoup(browser.page_source,\"lxml\")"
   ]
  },
  {
   "cell_type": "code",
   "execution_count": 4,
   "metadata": {},
   "outputs": [],
   "source": [
    "#표전체 위치값 찾기\n",
    "section=soup.find(\"div\",{\"class\":\"aunJwsbN\"})"
   ]
  },
  {
   "cell_type": "code",
   "execution_count": 5,
   "metadata": {},
   "outputs": [
    {
     "ename": "AttributeError",
     "evalue": "'NoneType' object has no attribute 'find_all'",
     "output_type": "error",
     "traceback": [
      "\u001b[1;31m---------------------------------------------------------------------------\u001b[0m",
      "\u001b[1;31mAttributeError\u001b[0m                            Traceback (most recent call last)",
      "Cell \u001b[1;32mIn[5], line 1\u001b[0m\n\u001b[1;32m----> 1\u001b[0m lists\u001b[38;5;241m=\u001b[39m\u001b[43msection\u001b[49m\u001b[38;5;241;43m.\u001b[39;49m\u001b[43mfind_all\u001b[49m(\u001b[38;5;124m\"\u001b[39m\u001b[38;5;124mdiv\u001b[39m\u001b[38;5;124m\"\u001b[39m,{\u001b[38;5;124m\"\u001b[39m\u001b[38;5;124mclass\u001b[39m\u001b[38;5;124m\"\u001b[39m:\u001b[38;5;124m\"\u001b[39m\u001b[38;5;124mb5G6-Ki+\u001b[39m\u001b[38;5;124m\"\u001b[39m})\n",
      "\u001b[1;31mAttributeError\u001b[0m: 'NoneType' object has no attribute 'find_all'"
     ]
    }
   ],
   "source": [
    "lists=section.find_all(\"div\",{\"class\":\"b5G6-Ki+\"})"
   ]
  },
  {
   "cell_type": "code",
   "execution_count": 29,
   "metadata": {},
   "outputs": [
    {
     "data": {
      "text/plain": [
       "100"
      ]
     },
     "execution_count": 29,
     "metadata": {},
     "output_type": "execute_result"
    }
   ],
   "source": [
    "len(lists)"
   ]
  },
  {
   "cell_type": "markdown",
   "metadata": {},
   "source": [
    "상세페이지내 title,category,content"
   ]
  },
  {
   "cell_type": "code",
   "execution_count": 30,
   "metadata": {},
   "outputs": [
    {
     "data": {
      "text/plain": [
       "'/w/%EB%B0%B0%ED%8B%80%20%EC%8A%A4%ED%94%BC%EB%A6%AC%EC%B8%A0%20%EB%B8%8C%EB%A0%88%EC%9D%B4%EB%B8%8C'"
      ]
     },
     "execution_count": 30,
     "metadata": {},
     "output_type": "execute_result"
    }
   ],
   "source": [
    "lists[1].a['href']"
   ]
  },
  {
   "cell_type": "code",
   "execution_count": 31,
   "metadata": {},
   "outputs": [
    {
     "name": "stdout",
     "output_type": "stream",
     "text": [
      "완료\n"
     ]
    }
   ],
   "source": [
    "urls=[]\n",
    "for i in range(1,len(lists)):\n",
    "    urls.append(\"https://namu.wiki\"+lists[i].a['href'])\n",
    "print('완료')"
   ]
  },
  {
   "cell_type": "code",
   "execution_count": 33,
   "metadata": {},
   "outputs": [
    {
     "data": {
      "text/plain": [
       "['https://namu.wiki/w/%EB%B0%B0%ED%8B%80%20%EC%8A%A4%ED%94%BC%EB%A6%AC%EC%B8%A0%20%EB%B8%8C%EB%A0%88%EC%9D%B4%EB%B8%8C',\n",
       " 'https://namu.wiki/w/%EC%82%AC%EB%AC%B4%EC%97%98%20%EB%A6%AC%EB%88%84',\n",
       " 'https://namu.wiki/w/%EC%95%84%EC%B9%B4%EB%8D%B0%EB%AF%B8(%ED%8F%AC%EC%BC%93%EB%AA%AC%EC%8A%A4%ED%84%B0)',\n",
       " 'https://namu.wiki/w/%EC%86%8C%ED%95%A9%ED%83%81',\n",
       " 'https://namu.wiki/w/%ED%9A%8C%EC%A0%84%EA%B5%90%EC%B0%A8%EB%A1%9C',\n",
       " 'https://namu.wiki/w/%ED%95%98%EC%8A%A4%EC%8A%A4%ED%86%A4/%EC%B9%B4%EB%93%9C%EC%9D%BC%EB%9E%8C/%EC%A0%84%EC%9E%A5%20%EC%A0%84%EC%9A%A9/2%EB%8B%A8%EA%B3%84',\n",
       " 'https://namu.wiki/w/%EC%8C%88%EB%BD%95',\n",
       " 'https://namu.wiki/w/%EC%88%98%EB%8B%88%EA%B7%B8%EB%A3%B9',\n",
       " 'https://namu.wiki/w/%EB%B0%B1%EB%AF%B8%EC%9D%80',\n",
       " 'https://namu.wiki/w/%ED%9C%B4%EC%A7%80%ED%86%B5:tpzx77t',\n",
       " 'https://namu.wiki/w/%EB%B0%95%EC%98%81%EC%B0%BD',\n",
       " 'https://namu.wiki/w/%ED%9A%8C%EC%A0%84%EA%B5%90%EC%B0%A8%EB%A1%9C',\n",
       " 'https://namu.wiki/w/%ED%9A%8C%EC%A0%84%20%EA%B5%90%EC%B0%A8%EB%A1%9C',\n",
       " 'https://namu.wiki/w/%ED%94%84%EB%A1%9C%ED%8E%98%EC%84%9C%20%ED%81%B4%EB%A1%9C%EB%B2%84',\n",
       " 'https://namu.wiki/w/DJMAX%20RESPECT%20V/%EC%95%84%EC%9D%B4%ED%85%9C',\n",
       " 'https://namu.wiki/w/%EB%8C%80%EB%A7%8C%EC%9D%BC%EA%B1%B0%EC%8B%9C%EA%B8%B0',\n",
       " 'https://namu.wiki/w/%EC%88%B2%EC%A7%80%EA%B8%B0',\n",
       " 'https://namu.wiki/w/%EC%A1%B0%EC%A1%B0/%EC%83%9D%EC%95%A0',\n",
       " 'https://namu.wiki/w/%EC%8B%9D%EB%AC%BC%20vs%20%EC%A2%80%EB%B9%84/%EC%8B%9D%EB%AC%BC',\n",
       " 'https://namu.wiki/w/%EB%8B%A8%EC%9E%89',\n",
       " 'https://namu.wiki/w/%ED%9C%B4%EC%A7%80%ED%86%B5:bd6dq9',\n",
       " 'https://namu.wiki/w/%EA%B0%A4%EB%9F%AC%EB%A6%AC%EC%95%84%EB%B0%B1%ED%99%94%EC%A0%90',\n",
       " 'https://namu.wiki/w/Slap%20Battles/%EB%B0%B0%EC%A7%80',\n",
       " 'https://namu.wiki/w/%EA%B2%BD%EC%9B%90%EC%84%A0',\n",
       " 'https://namu.wiki/w/%EC%9D%B4%ED%99%98(%EC%9D%B8%ED%84%B0%EB%84%B7%20%EB%B0%A9%EC%86%A1%EC%9D%B8)',\n",
       " 'https://namu.wiki/w/DJMAX%20%EC%97%94%ED%84%B0%ED%85%8C%EC%9D%B8%EB%A8%BC%ED%8A%B8',\n",
       " 'https://namu.wiki/w/cars3',\n",
       " 'https://namu.wiki/w/%EC%9D%B4%EC%8B%9C%EC%98%A8',\n",
       " 'https://namu.wiki/w/%EB%B0%B0%ED%8B%80%20%EC%8A%A4%ED%94%BC%EB%A6%AC%EC%B8%A0%20%EC%86%8C%EB%93%9C%EC%95%84%EC%9D%B4%EC%A6%88',\n",
       " 'https://namu.wiki/w/%EB%A7%A4%EC%A7%81%20%EB%8D%94%20%EA%B0%9C%EB%8D%94%EB%A7%81/%EC%9C%A0%ED%98%95',\n",
       " 'https://namu.wiki/w/%EB%B6%81%ED%95%9C%202024%EB%85%84%20%EB%8C%80%EB%82%A8%EC%A0%84%EB%8B%A8%20%EC%82%B4%ED%8F%AC%20%EC%82%AC%EA%B1%B4',\n",
       " 'https://namu.wiki/w/Zero%20Tenacity/%EB%A6%AC%EA%B7%B8%20%EC%98%A4%EB%B8%8C%20%EB%A0%88%EC%A0%84%EB%93%9C',\n",
       " 'https://namu.wiki/w/%EC%9D%B4%ED%99%98(%EC%9D%B8%ED%84%B0%EB%84%B7%20%EB%B0%A9%EC%86%A1%EC%9D%B8)',\n",
       " 'https://namu.wiki/w/%EB%B6%84%EB%A5%98:%EC%84%B8%EC%86%8D%EC%A0%81%20%EC%9D%B4%EC%8A%AC%EB%9E%8C%20%EA%B5%AD%EA%B0%80',\n",
       " 'https://namu.wiki/w/%EC%9B%90%ED%98%95%EA%B5%90%EC%B0%A8%EB%A1%9C',\n",
       " 'https://namu.wiki/w/%EA%B5%AC%EB%A6%84%ED%95%B4%ED%83%9C%EB%A7%9B%20%EC%BF%A0%ED%82%A4',\n",
       " 'https://namu.wiki/w/%ED%83%9C%EB%84%88%20%ED%95%98%EC%9A%B0%ED%81%AC',\n",
       " 'https://namu.wiki/w/%EB%B6%81%ED%95%9C%20%EB%AF%B8%EC%83%81%EB%AC%BC%EC%B2%B4%202024%EB%85%84%205%EC%9B%94%20%EC%82%AC%EA%B1%B4',\n",
       " 'https://namu.wiki/w/%EC%9B%90%ED%98%95%20%EA%B5%90%EC%B0%A8%EB%A1%9C',\n",
       " 'https://namu.wiki/w/%EC%98%A4%EB%AA%A8%ED%85%8C%EB%8B%88%ED%98%BC-%EC%9A%B0%EB%9D%BC%EB%8B%88%ED%98%BC',\n",
       " 'https://namu.wiki/w/%E5%AE%89%E7%94%B0%E3%81%95%E3%82%93',\n",
       " 'https://namu.wiki/w/%EA%B9%80%EB%8F%84%EC%9C%A4(2002)',\n",
       " 'https://namu.wiki/w/2024%EB%85%84',\n",
       " 'https://namu.wiki/w/%EC%B5%9C%EC%88%98%ED%8F%AC',\n",
       " 'https://namu.wiki/w/%EC%97%90%EA%B8%B0%EB%A5%B4(%EB%AA%85%EC%9D%BC%EB%B0%A9%EC%A3%BC)',\n",
       " 'https://namu.wiki/w/Skibidi%20Trashcan',\n",
       " 'https://namu.wiki/w/%EB%A7%A4%EA%B7%B8%EB%84%88%EC%8A%A4(%EC%9D%B4%ED%84%B0%EB%84%90%20%EB%A6%AC%ED%84%B4)',\n",
       " 'https://namu.wiki/w/%ED%94%84%EB%9E%91%EC%88%98%EC%95%84%20%EB%92%A4%EB%B0%9C%EB%A6%AC%EC%97%90',\n",
       " 'https://namu.wiki/w/%EB%B0%95%EC%A2%85%ED%99%98(1954)',\n",
       " 'https://namu.wiki/w/%EC%88%98%EB%8F%84%EA%B6%8C%20%EC%A0%84%EC%B2%A0%201%ED%98%B8%EC%84%A0',\n",
       " 'https://namu.wiki/w/%EB%B9%84%EB%B4%89',\n",
       " 'https://namu.wiki/w/%ED%85%8C%EC%9D%BC%EB%9F%AC%20%EA%B5%AC%EC%8A%88',\n",
       " 'https://namu.wiki/w/%EC%98%A5%EC%98%81%EB%AF%B8',\n",
       " 'https://namu.wiki/w/%EC%8B%9D%EB%AC%BC%20vs%20%EC%A2%80%EB%B9%84/%EC%8B%9D%EB%AC%BC',\n",
       " 'https://namu.wiki/w/%ED%98%84%EB%8C%80%EC%B0%A8%EC%A6%9D%EA%B6%8C',\n",
       " 'https://namu.wiki/w/%EC%82%B0%EC%95%85%20%EC%BD%94%EB%A7%8C%EB%8F%84',\n",
       " 'https://namu.wiki/w/%EB%B0%B0%ED%8B%80%20%EC%8A%A4%ED%94%BC%EB%A6%AC%EC%B8%A0%20%EC%86%8C%EB%93%9C%EC%95%84%EC%9D%B4%EC%A6%88',\n",
       " 'https://namu.wiki/w/%EC%9A%B0%EC%99%81%EA%B5%B3/%EC%BD%98%ED%85%90%EC%B8%A0/%EA%B2%8C%EC%9E%84/%EB%A7%88%EC%9D%B8%ED%81%AC%EB%9E%98%ED%94%84%ED%8A%B8/%EC%99%81%EB%91%90%EB%9E%9C%EB%93%9C',\n",
       " 'https://namu.wiki/w/%ED%8C%A8%EB%A6%AC%EC%8A%A4%20%EB%B0%B0%EC%8A%A4',\n",
       " 'https://namu.wiki/w/%EC%83%A4%EB%A5%B8%ED%98%B8%EC%8A%A4%ED%8A%B8',\n",
       " 'https://namu.wiki/w/%EA%B0%93%EC%B8%84(%EC%95%A0%ED%94%8C%EB%A6%AC%EC%BC%80%EC%9D%B4%EC%85%98)',\n",
       " 'https://namu.wiki/w/%EA%B5%AC%EB%A6%84%ED%95%B4%ED%83%9C%EB%A7%9B%20%EC%BF%A0%ED%82%A4',\n",
       " 'https://namu.wiki/w/%EC%8D%B8%EB%A8%B8%EC%9B%8C%EC%A6%88',\n",
       " 'https://namu.wiki/w/%EC%A1%B0%EB%AF%BC%EC%84%B1(%ED%94%84%EB%A1%9C%EA%B2%8C%EC%9D%B4%EB%A8%B8)',\n",
       " 'https://namu.wiki/w/%ED%95%98%EC%8A%A4%EC%8A%A4%ED%86%A4/%EC%B9%B4%EB%93%9C%EC%9D%BC%EB%9E%8C/%EC%A0%84%EC%9E%A5%20%EC%A0%84%EC%9A%A9/2%EB%8B%A8%EA%B3%84',\n",
       " 'https://namu.wiki/w/%EC%99%84%EC%84%A0%EB%B6%80%EB%B6%80',\n",
       " 'https://namu.wiki/w/%EB%A7%A4%EC%A7%81%20%EB%8D%94%20%EA%B0%9C%EB%8D%94%EB%A7%81/%EC%9C%A0%ED%98%95',\n",
       " 'https://namu.wiki/w/%EC%8B%9D%EB%AC%BC%20vs%20%EC%A2%80%EB%B9%84/%EC%8B%9D%EB%AC%BC',\n",
       " 'https://namu.wiki/w/%EB%B0%95%EB%AF%BC%EA%B7%9C(%EC%A0%95%EC%B9%98%EC%9D%B8)',\n",
       " 'https://namu.wiki/w/READY%20TO%20BE',\n",
       " 'https://namu.wiki/w/%ED%94%84%EB%A1%9C%EA%B2%8C%EC%9D%B4%EB%A8%B8',\n",
       " 'https://namu.wiki/w/%EB%B6%84%EB%A5%98:%EC%95%8C%EB%B0%94%EB%8B%88%EC%95%84',\n",
       " 'https://namu.wiki/w/%EA%B9%80%ED%98%B8%EC%A4%91%20%EC%9D%8C%EC%A3%BC%20%EB%BA%91%EC%86%8C%EB%8B%88%20%EC%82%AC%EA%B1%B4',\n",
       " 'https://namu.wiki/w/%EC%B9%B4%EC%B9%B4%EC%98%A4',\n",
       " 'https://namu.wiki/w/%EA%B4%91%EC%A3%BC%20%EB%B2%84%EC%8A%A4%20%EC%A7%80%EC%9B%9056',\n",
       " 'https://namu.wiki/w/%EC%9E%AC%EB%B9%84%EC%96%B4%20%EC%97%90%EB%93%9C%EC%9B%8C%EC%A6%88',\n",
       " 'https://namu.wiki/w/2024%EB%85%84',\n",
       " 'https://namu.wiki/w/%EC%88%B2%EC%A7%80%EA%B8%B0',\n",
       " 'https://namu.wiki/w/%EC%9A%B0%EC%99%81%EA%B5%B3/%EC%BD%98%ED%85%90%EC%B8%A0/%EA%B2%8C%EC%9E%84/%EB%A7%88%EC%9D%B8%ED%81%AC%EB%9E%98%ED%94%84%ED%8A%B8/%EC%99%81%EB%91%90%EB%9E%9C%EB%93%9C',\n",
       " 'https://namu.wiki/w/%ED%8F%AC%EB%AE%AC%EB%9F%AC%201/2024%EC%8B%9C%EC%A6%8C/6R~10R',\n",
       " 'https://namu.wiki/w/%EC%84%A4%EA%B5%90(%EC%82%BC%EA%B5%AD%EC%A7%80)',\n",
       " 'https://namu.wiki/w/%EA%B1%B0%EB%AF%B8(Rain%20World)',\n",
       " 'https://namu.wiki/w/%EC%9B%90%EC%A7%84',\n",
       " 'https://namu.wiki/w/%EC%98%A4%EB%AA%A8%ED%85%8C%EB%8B%88%ED%98%BC-%EC%9A%B0%EB%9D%BC%EB%8B%88%ED%98%BC',\n",
       " 'https://namu.wiki/w/%EC%95%84%EB%A6%AC%EC%97%98%20%ED%9B%84%EB%9D%BC%EB%8F%84',\n",
       " 'https://namu.wiki/w/%EC%8B%9C%ED%81%B4%EB%A6%AC%EB%93%9C',\n",
       " 'https://namu.wiki/w/%EC%95%84%EC%9D%B4%EC%9E%91%20%ED%81%B4%EB%9D%BC%ED%81%AC',\n",
       " 'https://namu.wiki/w/Weeekly/%ED%99%9C%EB%8F%99',\n",
       " 'https://namu.wiki/w/%EA%B0%95%EC%B2%A0%EC%82%BC%EA%B5%AD%EC%A7%80',\n",
       " 'https://namu.wiki/w/2024%EB%85%84',\n",
       " 'https://namu.wiki/w/%EC%95%8C%EB%A0%89%EC%82%B0%EB%93%9C%EB%9D%BC(%EB%A9%94%EB%A9%98%ED%86%A0%20%EB%AA%A8%EB%A6%AC)',\n",
       " 'https://namu.wiki/w/K%EB%A6%AC%EA%B7%B8/%EB%93%9C%EB%9E%98%ED%94%84%ED%8A%B8/2007%EB%85%84',\n",
       " 'https://namu.wiki/w/%EB%B0%B0%EC%88%98%EC%A7%84(%EC%A0%95%EC%B9%98%EC%9D%B8)',\n",
       " 'https://namu.wiki/w/%EB%B2%A8(BFDI)',\n",
       " 'https://namu.wiki/w/%EB%B0%94%EB%B9%84%20%EB%8B%AC%EB%B2%A1',\n",
       " 'https://namu.wiki/w/%EB%B6%84%EB%A5%98:%EC%BF%A0%EC%9B%A8%EC%9D%B4%ED%8A%B8',\n",
       " 'https://namu.wiki/w/%EB%8B%98%ED%8C%8C%EB%8F%84%EB%9D%BC%20%ED%86%B5%EC%8A%A4',\n",
       " 'https://namu.wiki/w/%EB%82%98%EB%A5%BC%20%EB%B0%94%EA%BF%94%EC%A4%98/%EB%93%B1%EC%9E%A5%EC%9D%B8%EB%AC%BC',\n",
       " 'https://namu.wiki/w/BEE%20TRAIN']"
      ]
     },
     "execution_count": 33,
     "metadata": {},
     "output_type": "execute_result"
    }
   ],
   "source": [
    "urls"
   ]
  },
  {
   "cell_type": "code",
   "execution_count": 34,
   "metadata": {},
   "outputs": [],
   "source": [
    "\n",
    "#상세페이지 title, category,content 가져오기 예시\n",
    "url='https://namu.wiki/w/%EA%B9%80%EB%AF%BC%EC%9E%AC'\n",
    "res=requests.get(url)\n",
    "res.raise_for_status()\n",
    "#데이터불러오기\n",
    "soup=BeautifulSoup(res.text,'lxml')\n"
   ]
  },
  {
   "cell_type": "markdown",
   "metadata": {},
   "source": [
    "#### 상세페이지 내 title,category,content"
   ]
  },
  {
   "cell_type": "code",
   "execution_count": 9,
   "metadata": {},
   "outputs": [
    {
     "ename": "AttributeError",
     "evalue": "'NoneType' object has no attribute 'text'",
     "output_type": "error",
     "traceback": [
      "\u001b[1;31m---------------------------------------------------------------------------\u001b[0m",
      "\u001b[1;31mAttributeError\u001b[0m                            Traceback (most recent call last)",
      "Cell \u001b[1;32mIn[9], line 2\u001b[0m\n\u001b[0;32m      1\u001b[0m \u001b[38;5;66;03m#title\u001b[39;00m\n\u001b[1;32m----> 2\u001b[0m title\u001b[38;5;241m=\u001b[39m\u001b[43msoup\u001b[49m\u001b[38;5;241;43m.\u001b[39;49m\u001b[43mfind\u001b[49m\u001b[43m(\u001b[49m\u001b[38;5;124;43m\"\u001b[39;49m\u001b[38;5;124;43ma\u001b[39;49m\u001b[38;5;124;43m\"\u001b[39;49m\u001b[43m,\u001b[49m\u001b[43m{\u001b[49m\u001b[38;5;124;43m\"\u001b[39;49m\u001b[38;5;124;43mclass\u001b[39;49m\u001b[38;5;124;43m\"\u001b[39;49m\u001b[43m:\u001b[49m\u001b[38;5;124;43m\"\u001b[39;49m\u001b[38;5;124;43mwldOEh2w\u001b[39;49m\u001b[38;5;124;43m\"\u001b[39;49m\u001b[43m}\u001b[49m\u001b[43m)\u001b[49m\u001b[38;5;241;43m.\u001b[39;49m\u001b[43mtext\u001b[49m\n\u001b[0;32m      3\u001b[0m title\n",
      "\u001b[1;31mAttributeError\u001b[0m: 'NoneType' object has no attribute 'text'"
     ]
    }
   ],
   "source": [
    "#title\n",
    "title=soup.find(\"a\",{\"class\":\"wldOEh2w\"}).text\n",
    "title"
   ]
  },
  {
   "cell_type": "code",
   "execution_count": 8,
   "metadata": {},
   "outputs": [
    {
     "ename": "AttributeError",
     "evalue": "'NoneType' object has no attribute 'text'",
     "output_type": "error",
     "traceback": [
      "\u001b[1;31m---------------------------------------------------------------------------\u001b[0m",
      "\u001b[1;31mAttributeError\u001b[0m                            Traceback (most recent call last)",
      "Cell \u001b[1;32mIn[8], line 1\u001b[0m\n\u001b[1;32m----> 1\u001b[0m category\u001b[38;5;241m=\u001b[39m\u001b[43msoup\u001b[49m\u001b[38;5;241;43m.\u001b[39;49m\u001b[43mfind\u001b[49m\u001b[43m(\u001b[49m\u001b[38;5;124;43m\"\u001b[39;49m\u001b[38;5;124;43mli\u001b[39;49m\u001b[38;5;124;43m\"\u001b[39;49m\u001b[43m,\u001b[49m\u001b[43m{\u001b[49m\u001b[38;5;124;43m\"\u001b[39;49m\u001b[38;5;124;43mclass\u001b[39;49m\u001b[38;5;124;43m\"\u001b[39;49m\u001b[43m:\u001b[49m\u001b[38;5;124;43m\"\u001b[39;49m\u001b[38;5;124;43m_5YOCljOj\u001b[39;49m\u001b[38;5;124;43m\"\u001b[39;49m\u001b[43m}\u001b[49m\u001b[43m)\u001b[49m\u001b[38;5;241;43m.\u001b[39;49m\u001b[43mtext\u001b[49m\n\u001b[0;32m      2\u001b[0m category\n",
      "\u001b[1;31mAttributeError\u001b[0m: 'NoneType' object has no attribute 'text'"
     ]
    }
   ],
   "source": [
    "category=soup.find(\"li\",{\"class\":\"_5YOCljOj\"}).text\n",
    "category"
   ]
  },
  {
   "cell_type": "code",
   "execution_count": 37,
   "metadata": {},
   "outputs": [],
   "source": [
    "\n",
    "contents=soup.find(\"div\",{\"class\":\"URRHzM+F\"})\n"
   ]
  },
  {
   "cell_type": "code",
   "execution_count": 39,
   "metadata": {},
   "outputs": [
    {
     "name": "stdout",
     "output_type": "stream",
     "text": [
      "대한민국 국적의 FC 바이에른 뮌헨 소속 축구 선수. 포지션은 센터백이다.22-23 시즌 SSC 나폴리에서의 뛰어난 활약으로 33년 만에 팀의 세리에 A 우승을 이끌며 세리에 A 올해의 팀과 세리에 A 최우수 수비수를 수상했다.\n"
     ]
    }
   ],
   "source": [
    "cont = contents.find(\"span\",{\"id\":\"개요\"}).parent.nextSibling.text\n",
    "print(cont)"
   ]
  },
  {
   "cell_type": "code",
   "execution_count": null,
   "metadata": {},
   "outputs": [],
   "source": []
  },
  {
   "cell_type": "code",
   "execution_count": 6,
   "metadata": {},
   "outputs": [
    {
     "ename": "AttributeError",
     "evalue": "'NoneType' object has no attribute 'find_all'",
     "output_type": "error",
     "traceback": [
      "\u001b[1;31m---------------------------------------------------------------------------\u001b[0m",
      "\u001b[1;31mAttributeError\u001b[0m                            Traceback (most recent call last)",
      "Cell \u001b[1;32mIn[6], line 28\u001b[0m\n\u001b[0;32m     26\u001b[0m \u001b[38;5;66;03m# 표부분 전체 위치 값 찾기\u001b[39;00m\n\u001b[0;32m     27\u001b[0m section \u001b[38;5;241m=\u001b[39m soup\u001b[38;5;241m.\u001b[39mfind(\u001b[38;5;124m\"\u001b[39m\u001b[38;5;124mdiv\u001b[39m\u001b[38;5;124m\"\u001b[39m,{\u001b[38;5;124m\"\u001b[39m\u001b[38;5;124mclass\u001b[39m\u001b[38;5;124m\"\u001b[39m:\u001b[38;5;124m\"\u001b[39m\u001b[38;5;124maunJwsbN\u001b[39m\u001b[38;5;124m\"\u001b[39m})\n\u001b[1;32m---> 28\u001b[0m lists \u001b[38;5;241m=\u001b[39m \u001b[43msection\u001b[49m\u001b[38;5;241;43m.\u001b[39;49m\u001b[43mfind_all\u001b[49m(\u001b[38;5;124m\"\u001b[39m\u001b[38;5;124mdiv\u001b[39m\u001b[38;5;124m\"\u001b[39m,{\u001b[38;5;124m\"\u001b[39m\u001b[38;5;124mclass\u001b[39m\u001b[38;5;124m\"\u001b[39m:\u001b[38;5;124m\"\u001b[39m\u001b[38;5;124mb5G6-Ki+\u001b[39m\u001b[38;5;124m\"\u001b[39m}) \u001b[38;5;66;03m#100개\u001b[39;00m\n\u001b[0;32m     30\u001b[0m \u001b[38;5;66;03m# 표부분 전체 위치 값 찾기\u001b[39;00m\n\u001b[0;32m     31\u001b[0m section \u001b[38;5;241m=\u001b[39m soup\u001b[38;5;241m.\u001b[39mfind(\u001b[38;5;124m\"\u001b[39m\u001b[38;5;124mdiv\u001b[39m\u001b[38;5;124m\"\u001b[39m,{\u001b[38;5;124m\"\u001b[39m\u001b[38;5;124mclass\u001b[39m\u001b[38;5;124m\"\u001b[39m:\u001b[38;5;124m\"\u001b[39m\u001b[38;5;124m_05sl5euW\u001b[39m\u001b[38;5;124m\"\u001b[39m})\n",
      "\u001b[1;31mAttributeError\u001b[0m: 'NoneType' object has no attribute 'find_all'"
     ]
    }
   ],
   "source": [
    "import requests\n",
    "import time\n",
    "import random\n",
    "from bs4 import BeautifulSoup\n",
    "from selenium import webdriver\n",
    "from selenium.webdriver.common.by import By\n",
    "from selenium.webdriver.common.keys import Keys\n",
    "# 화면이 나타나는 것을 확인\n",
    "from selenium.webdriver.support.ui import WebDriverWait\n",
    "from selenium.webdriver.support import expected_conditions as EC\n",
    "import pyautogui\n",
    "headers = {\"User-Agent\":\"Mozilla/5.0 (Windows NT 10.0; Win64; x64) AppleWebKit/537.36 (KHTML, like Gecko) Chrome/124.0.0.0 Safari/537.36\",\"Accep-Language\":\"ko-KR,ko;q=0.9,en-US;q=0.8,en;q=0.7\"}\n",
    "url = \"https://namu.wiki/RecentChanges\"\n",
    "\n",
    "\n",
    "# 브라우저 열기\n",
    "browser = webdriver.Chrome()\n",
    "browser.maximize_window()\n",
    "browser.get(url)\n",
    "\n",
    "# 데이터 불러오기 - 파일저장\n",
    "soup = BeautifulSoup(browser.page_source,\"lxml\")\n",
    "with open(\"test.html\",\"w\",encoding=\"utf8\") as f:\n",
    "    f.write(soup.prettify())\n",
    "\n",
    "# 표부분 전체 위치 값 찾기\n",
    "section = soup.find(\"div\",{\"class\":\"aunJwsbN\"})\n",
    "lists = section.find_all(\"div\",{\"class\":\"b5G6-Ki+\"}) #100개\n",
    "\n",
    "# 표부분 전체 위치 값 찾기\n",
    "section = soup.find(\"div\",{\"class\":\"_05sl5euW\"})\n",
    "\n",
    "lists = section.find_all(\"div\",{\"class\":\"RCuwAzkH\"}) #100개"
   ]
  },
  {
   "cell_type": "code",
   "execution_count": 7,
   "metadata": {},
   "outputs": [
    {
     "ename": "NameError",
     "evalue": "name 'lists' is not defined",
     "output_type": "error",
     "traceback": [
      "\u001b[1;31m---------------------------------------------------------------------------\u001b[0m",
      "\u001b[1;31mNameError\u001b[0m                                 Traceback (most recent call last)",
      "Cell \u001b[1;32mIn[7], line 1\u001b[0m\n\u001b[1;32m----> 1\u001b[0m \u001b[38;5;28;01mfor\u001b[39;00m i \u001b[38;5;129;01min\u001b[39;00m \u001b[38;5;28mrange\u001b[39m(\u001b[38;5;28mlen\u001b[39m(\u001b[43mlists\u001b[49m)):\n\u001b[0;32m      2\u001b[0m     url\u001b[38;5;241m=\u001b[39mlists[i]\n\u001b[0;32m      3\u001b[0m     res\u001b[38;5;241m=\u001b[39mrequests\u001b[38;5;241m.\u001b[39mget(url)\n",
      "\u001b[1;31mNameError\u001b[0m: name 'lists' is not defined"
     ]
    }
   ],
   "source": [
    "for i in range(len(lists)):\n",
    "    url=lists[i]\n",
    "    res=requests.get(url)\n",
    "    res.raise_for_status\n",
    "    \n",
    "    soup=BeautifulSoup(res.text,'lxml')\n",
    "    title.append(soup.find(\"a\",{\"class\":\"wldOEh2w\"}).text)"
   ]
  }
 ],
 "metadata": {
  "kernelspec": {
   "display_name": "Python 3",
   "language": "python",
   "name": "python3"
  },
  "language_info": {
   "codemirror_mode": {
    "name": "ipython",
    "version": 3
   },
   "file_extension": ".py",
   "mimetype": "text/x-python",
   "name": "python",
   "nbconvert_exporter": "python",
   "pygments_lexer": "ipython3",
   "version": "3.12.3"
  }
 },
 "nbformat": 4,
 "nbformat_minor": 2
}
