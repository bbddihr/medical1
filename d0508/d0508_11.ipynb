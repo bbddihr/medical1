{
 "cells": [
  {
   "cell_type": "code",
   "execution_count": 22,
   "metadata": {},
   "outputs": [
    {
     "name": "stderr",
     "output_type": "stream",
     "text": [
      "c:\\Python312\\Lib\\site-packages\\openpyxl\\styles\\stylesheet.py:226: UserWarning: Workbook contains no default style, apply openpyxl's default\n",
      "  warn(\"Workbook contains no default style, apply openpyxl's default\")\n"
     ]
    },
    {
     "data": {
      "text/plain": [
       "array(['0~4세', '5~9세', '10~14세', '15~19세', '20~24세', '25~29세', '30~34세',\n",
       "       '35~39세', '40~44세', '45~49세', '50~54세', '55~59세', '60~64세',\n",
       "       '65~69세', '70~74세', '75~79세', '80~84세', '85~89세', '90~94세',\n",
       "       '95~99세', '100세 이상'], dtype=object)"
      ]
     },
     "execution_count": 22,
     "metadata": {},
     "output_type": "execute_result"
    }
   ],
   "source": [
    "import pandas as pd\n",
    "df = pd.read_excel('202303_인구.xlsx',skiprows=3,usecols='B,E:Y',index_col='행정기관')\n",
    "# df.iloc[0]= df.iloc[0].str.replace(\",\",\"\").astype(int)\n",
    "for i in range(df.shape[0]):\n",
    "    df.iloc[i] =df.iloc[i].str.replace(\",\",\"\").astype(int)    #쉼표빠짐\n",
    "# df.shape[0]  #row몇개\n",
    "#df.describe()\n",
    "# df['0~4세'].sum()\n",
    "df.columns.values\n",
    "# df.iloc[0,1]"
   ]
  }
 ],
 "metadata": {
  "kernelspec": {
   "display_name": "Python 3",
   "language": "python",
   "name": "python3"
  },
  "language_info": {
   "codemirror_mode": {
    "name": "ipython",
    "version": 3
   },
   "file_extension": ".py",
   "mimetype": "text/x-python",
   "name": "python",
   "nbconvert_exporter": "python",
   "pygments_lexer": "ipython3",
   "version": "3.12.0"
  }
 },
 "nbformat": 4,
 "nbformat_minor": 2
}
