{
 "cells": [
  {
   "cell_type": "code",
   "execution_count": 12,
   "metadata": {},
   "outputs": [
    {
     "name": "stderr",
     "output_type": "stream",
     "text": [
      "c:\\Python312\\Lib\\site-packages\\openpyxl\\styles\\stylesheet.py:226: UserWarning: Workbook contains no default style, apply openpyxl's default\n",
      "  warn(\"Workbook contains no default style, apply openpyxl's default\")\n"
     ]
    },
    {
     "data": {
      "text/plain": [
       "행정기관\n",
       "전국           726,460\n",
       "서울특별시        116,614\n",
       "부산광역시         41,333\n",
       "대구광역시         31,269\n",
       "인천광역시         43,664\n",
       "광주광역시         21,506\n",
       "대전광역시         21,241\n",
       "울산광역시         16,646\n",
       "세종특별자치시        9,524\n",
       "경기도          216,863\n",
       "강원도           20,663\n",
       "충청북도          22,631\n",
       "충청남도          31,138\n",
       "전라북도          21,236\n",
       "전라남도          23,539\n",
       "경상북도          33,538\n",
       "경상남도          44,066\n",
       "제주특별자치도       10,989\n",
       "Name: 0~4세, dtype: object"
      ]
     },
     "execution_count": 12,
     "metadata": {},
     "output_type": "execute_result"
    }
   ],
   "source": [
    "import pandas as pd\n",
    "df=pd.read_excel('202303_인구.xlsx',skiprows=3,index_col='행정기관',usecols='B,E:Y')\n",
    "df.head(2)\n",
    "df[0:3]\n",
    "df.tail()\n",
    "df['0~4세']\n",
    "df[df.columns[-1]]"
   ]
  }
 ],
 "metadata": {
  "kernelspec": {
   "display_name": "Python 3",
   "language": "python",
   "name": "python3"
  },
  "language_info": {
   "codemirror_mode": {
    "name": "ipython",
    "version": 3
   },
   "file_extension": ".py",
   "mimetype": "text/x-python",
   "name": "python",
   "nbconvert_exporter": "python",
   "pygments_lexer": "ipython3",
   "version": "3.12.0"
  }
 },
 "nbformat": 4,
 "nbformat_minor": 2
}
