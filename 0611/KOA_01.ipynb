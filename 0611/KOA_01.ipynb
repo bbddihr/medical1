{
 "cells": [
  {
   "cell_type": "code",
   "execution_count": null,
   "metadata": {},
   "outputs": [],
   "source": [
    "# ---- 프로젝트 개요----\n",
    "# 1. 데이터 폴더 경로 설정 자료 불러오기 o\n",
    "# 2. 이미지, 라벨링 데이터 시각화 및 확인 o\n",
    "# 3. 전처리 함수 테스트(CLAHE, Blur) o\n",
    "# 4. 학습 데이터 증강 o \n",
    "# 5. 이미지 전처리 \n",
    "# 6. 학습 데이터 분리\n",
    "# 7. 모델 생성(cnn)\n",
    "# 8. 모델 학습\n",
    "# 9. 모델 테스트 평가 분석"
   ]
  },
  {
   "cell_type": "code",
   "execution_count": 2,
   "metadata": {},
   "outputs": [],
   "source": [
    "import os\n",
    "import matplotlib.pyplot as plt\n",
    "import numpy as np\n",
    "import seaborn as sns\n",
    "import tensorflow as tf\n",
    "from sklearn.utils.class_weight import compute_class_weight"
   ]
  },
  {
   "cell_type": "code",
   "execution_count": 3,
   "metadata": {},
   "outputs": [],
   "source": [
    "#Load data \n",
    "#class names\n",
    "class_names = ['Healthy','doubtful','Minimal','Moderate','Severe']"
   ]
  },
  {
   "cell_type": "code",
   "execution_count": 8,
   "metadata": {},
   "outputs": [],
   "source": [
    "base_dir =\"../0611/\"\n",
    "train_path=os.path.join(base_dir,'train')\n",
    "valid_path=os.path.join(base_dir,'val')\n",
    "test_path=os.path.join(base_dir,'test')"
   ]
  },
  {
   "cell_type": "code",
   "execution_count": 9,
   "metadata": {},
   "outputs": [],
   "source": [
    "def get_classes(data_path,classes,data):\n",
    "    print(f\"-----{data}-----\")\n",
    "    knee_severity = []\n",
    "    count=0\n",
    "    \n",
    "    for i in range(len(classes)):\n",
    "        imgs = os.listdir(os.path.join(data_path,str(i)))\n",
    "        knee_severity[i]=imgs\n",
    "        count +- len(imgs)\n",
    "        \n",
    "    for k, v in knee_severity.items():\n",
    "        print(f\"Grade{k}-{classes[k]}:{len(v)} images,{round((len(v) * 100) / count, 2)}%\")\n",
    "    return knee_severity \n"
   ]
  },
  {
   "cell_type": "code",
   "execution_count": null,
   "metadata": {},
   "outputs": [],
   "source": [
    "train_data = get_classes(train_path, class_names, 'Train')\n",
    "valid_data = get_classes(valid_path, class_names,'Val')\n",
    "test_data = get_classes(test_path, class_names, 'Test')"
   ]
  },
  {
   "cell_type": "code",
   "execution_count": 13,
   "metadata": {},
   "outputs": [
    {
     "ename": "NameError",
     "evalue": "name 'plot_classes' is not defined",
     "output_type": "error",
     "traceback": [
      "\u001b[1;31m---------------------------------------------------------------------------\u001b[0m",
      "\u001b[1;31mNameError\u001b[0m                                 Traceback (most recent call last)",
      "Cell \u001b[1;32mIn[13], line 1\u001b[0m\n\u001b[1;32m----> 1\u001b[0m \u001b[43mplot_classes\u001b[49m(train_data, train_path, class_names, \u001b[38;5;124m'\u001b[39m\u001b[38;5;124mTrain data\u001b[39m\u001b[38;5;124m'\u001b[39m)\n",
      "\u001b[1;31mNameError\u001b[0m: name 'plot_classes' is not defined"
     ]
    }
   ],
   "source": [
    "plt.plot_classes(train_data, train_path, class_names, 'Train data')"
   ]
  },
  {
   "cell_type": "code",
   "execution_count": null,
   "metadata": {},
   "outputs": [],
   "source": [
    "datagen=tf.keras.preprocessing.image.ImageDataGenerator(\n",
    "    \n",
    ")"
   ]
  }
 ],
 "metadata": {
  "kernelspec": {
   "display_name": "tensorflow",
   "language": "python",
   "name": "tensorflow"
  },
  "language_info": {
   "codemirror_mode": {
    "name": "ipython",
    "version": 3
   },
   "file_extension": ".py",
   "mimetype": "text/x-python",
   "name": "python",
   "nbconvert_exporter": "python",
   "pygments_lexer": "ipython3",
   "version": "3.10.13"
  }
 },
 "nbformat": 4,
 "nbformat_minor": 2
}
