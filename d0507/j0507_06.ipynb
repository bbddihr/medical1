{
 "cells": [
  {
   "cell_type": "markdown",
   "metadata": {},
   "source": [
    "# 아래정보를 DataFrame으로 출력하시오.\n",
    "# 1. no,id,pw,name,phone,email,address,gender,major,grade,hobby,ip_address"
   ]
  },
  {
   "cell_type": "code",
   "execution_count": null,
   "metadata": {},
   "outputs": [],
   "source": [
    "\n",
    "1,Joelynn,6856,Paschke,726-935-7279,jpaschke0@time.com,460 Melby Avenue,F,science,2,run,197.125.170.29\n",
    "2,Bambie,8439,Henriet,106-961-2837,bhenriet1@github.io,5682 School Road,F,machine,1,game,186.223.222.89\n",
    "3,Orin,4720,Torresi,283-535-0981,otorresi2@vinaora.com,2341 Straubel Place,M,computer,3,run,103.111.108.9\n",
    "4,Puff,8047,Gilvary,677-319-4536,pgilvary3@bbc.co.uk,5 Sheridan Street,M,computer,1,game,130.172.144.105\n",
    "5,Godfree,5878,Gauchier,451-834-0498,ggauchier4@uiuc.edu,96 Northwestern Trail,M,computer,2,run,203.234.117.86\n",
    "\n",
    "'no':[1,2,3,4,5],\n",
    "'id':['Joelynn','Bambie','Orin','Puff','Godfree']\n",
    "2,Bambie,8439,Henriet,106-961-2837,bhenriet1@github.io,5682 School Road,F,machine,1,game,186.223.222.89\n",
    "'pw':[6856,8439,4720,8047,5878]\n",
    "'name':['Paschke','Henriet','Torresi','Gilvary','Gauchier']\n",
    "'phone':['726-935-7279','106-961-2837','283-535-0981','677-319-4536','451-834-0498']\n",
    "'email':['jpaschke0@time.com','bhenriet1@github.io','otorresi2@vinaora.com','pgilvary3@bbc.co.uk','ggauchier4@uiuc.edu']\n",
    "'address':['460 Melby Avenue','5682 School Road','2341 Straubel Place','5 Sheridan Street','96 Northwestern Trail']\n",
    "'gender'['F','F','M','M','M']\n",
    "'major'['science','machine','computer','computer','computer']\n",
    "'grade'['2','1','3','1','2']\n",
    "'hobby''ip_address'['197.125.170.29','186.223.222.89','103.111.108.9','130.172.144.105','203.234.117.86']\n",
    "\n",
    "\n",
    "\n",
    "\n",
    "\n"
   ]
  }
 ],
 "metadata": {
  "kernelspec": {
   "display_name": "Python 3",
   "language": "python",
   "name": "python3"
  },
  "language_info": {
   "name": "python",
   "version": "3.12.0"
  }
 },
 "nbformat": 4,
 "nbformat_minor": 2
}
