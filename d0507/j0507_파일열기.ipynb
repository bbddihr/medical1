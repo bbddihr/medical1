{
 "cells": [
  {
   "cell_type": "markdown",
   "metadata": {},
   "source": [
    "# 파일 읽어오기 "
   ]
  },
  {
   "cell_type": "code",
   "execution_count": null,
   "metadata": {},
   "outputs": [],
   "source": [
    "\n",
    "###파일 읽어오기\n",
    "#csv, txt, excel 파일 읽어오기 \n",
    "#csv 파일 읽어오기\n",
    "df=pd.read_csv('movie.csv')\n",
    "df\n",
    "#txt 파일 읽어오기\n",
    "df=pd.read_csv('movie_t.txt')\n",
    "\n",
    "#excel 팡리 읽어ㅇ괴\n",
    "df=pd.read_excel('movie_xlsx')"
   ]
  }
 ],
 "metadata": {
  "kernelspec": {
   "display_name": "Python 3",
   "language": "python",
   "name": "python3"
  },
  "language_info": {
   "codemirror_mode": {
    "name": "ipython",
    "version": 3
   },
   "file_extension": ".py",
   "mimetype": "text/x-python",
   "name": "python",
   "nbconvert_exporter": "python",
   "pygments_lexer": "ipython3",
   "version": "3.12.0"
  }
 },
 "nbformat": 4,
 "nbformat_minor": 2
}
