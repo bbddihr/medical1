{
 "cells": [
  {
   "cell_type": "code",
   "execution_count": null,
   "metadata": {},
   "outputs": [],
   "source": [
    "\n",
    "##텍스트 마이닝\n",
    "데이터 수집,키워드 추출과 분석 및 분석 결과 시각화 \n",
    "비정형 데이터에 숨겨진 관계를 탐색하고 발견"
   ]
  },
  {
   "cell_type": "code",
   "execution_count": 1,
   "metadata": {},
   "outputs": [
    {
     "name": "stdout",
     "output_type": "stream",
     "text": [
      "['안녕']\n"
     ]
    }
   ],
   "source": [
    "from konlpy.tag import Kkma\n",
    "kkma = Kkma()   # 아마 설치가 잘 되지 않았다면 이 단계에서 에러가 났을 것이다.\n",
    "print(kkma.nouns(u'안녕하세요 Soo입니다'))"
   ]
  },
  {
   "cell_type": "code",
   "execution_count": 2,
   "metadata": {},
   "outputs": [],
   "source": [
    "from konlpy.tag import Okt\n",
    "import operator"
   ]
  },
  {
   "cell_type": "code",
   "execution_count": 4,
   "metadata": {},
   "outputs": [],
   "source": [
    "new1='''21대 국회 마지막 본회의에서 해병대 채 상병 특검법이 최종 부결됐다. 국민 다수는 특검이 필요하다고 했지만 윤석열 대통령이 재의요구권(거부권)을 행사한 데 이어 여당이 반대 당론으로 재표결에 임해 법안 통과를 저지했다. 야당은 “여당이 국민의 목소리를 짓밟았다”며 22대 국회에서 채 상병 특검법을 1호 법안으로 다시 발의해 통과시키겠다고 밝혔다.\n",
    "국회는 28일 본회의에서 재석 294인 중 찬성 179표, 반대 111표, 무효 4표로 ‘순직 해병 수사 방해 및 사건 은폐 등의 진상규명을 위한 특별검사의 임명 등에 관한 법률안’ 재의의 건을 부결시켰다. 이로써 채 상병 특검법은 자동 폐기됐다.\n",
    "대통령이 거부권을 행사해 국회로 돌려보낸 법안을 다시 통과시키려면 재적 의원 과반 출석에 출석 의원 3분의 2 이상 찬성이 필요하다. 더불어민주당과 정의당 등 야당 의원들과 함께 국민의힘에서 김웅·안철수·유의동·최재형·김근태 의원 등이 당론에 반해 찬성했지만 의결 조건을 채우지 못했다.\n",
    "국민의힘은 본회의 직전 의원총회에서 반대를 당론으로 정해 부결을 이끌었다. 특검법 처리에 국민 60% 이상이 찬성한다는 여론조사 결과가 잇따랐지만 여당은 받아들이지 않았다. 원내 지도부가 일대일 접촉으로 총선에 낙선·낙천한 의원들의 참석을 독려해 여당 의원 전원이 표결에 참여했다.\n",
    "특검법은 지난해 7월 수해 실종자 수색 중 순직한 해병대원 사건 조사 과정에서 대통령실의 외압이 있었는지 등을 규명하는 내용이다. 야당이 지난해 9월 발의해 신속처리안건(패스트트랙)으로 지정했다. 지난 2일 본회의에서 야당 단독으로 통과, 지난 21일 대통령의 거부권 행사를 거쳐 이날 재표결이 이뤄졌다. 야당들은 윤석열 대통령이 포함된 권력형 게이트라며 특검이 필요하다고 주장했는데 국민의힘은 민주당의 대통령 탄핵 의도, 고위공직자범죄수사처(공수처) 가 수사 진행 중인 점 등을 이유로 반대했다.\n",
    "추경호 국민의힘 원내대표는 부결 후 “의원들이 당론으로 정한 사안에 단일대오로 투표해주셨다”며 “공수처 등 수사기관에서 신속하고 엄정하게 수사 결과를 내주시길 기대한다”고 밝혔다.\n",
    "민주당·정의당·새로운미래·조국혁신당·기본소득당·진보당 등 야 6당 의원들은 부결 후 규탄대회에서 “특검을 거부하는 자가 범인”, “국민의 명령 거부한 국민의힘 규탄한다” 등 구호를 외쳤다. 박찬대 민주당 원내대표는 “한 줌의 권력을 지키기 위해 국민 목소리를 짓밟은 의회 참사의 날”이라며 “22대 국회가 열리자마자 채 상병 특검법을 재추진하겠다”고 밝혔다. 허은아 개혁신당 대표는 기자회견에서 “역사의 법정이 반대표를 던진 의원들을 심판할 것”이라고 말했다.\n",
    "22대 국회에선 여당이 108석, 범야권 192석으로 여당에서 8명만 이탈해도 대통령의 거부권을 무력화할 수 있다.\n",
    "국회는 이날 본회의에서 민주당 등 야당 주도로 전세사기 특별법을 재석 170명에 찬성 170표 만장일치로 가결시켰다. 정부가 전세사기 피해자를 먼저 구제하고, 차후에 집을 처분해 회수하는 ‘선 구제 후 회수’가 주요 내용이다. 윤석열 대통령은 21대 국회 임기 마지막 날인 29일까지 법안이 정부로 이송되면 거부권을 행사할 방침 인 것으로 알려졌다.\n",
    "'''"
   ]
  },
  {
   "cell_type": "code",
   "execution_count": 5,
   "metadata": {},
   "outputs": [],
   "source": [
    "okt=Okt()\n",
    "#명사 부분만 추출\n",
    "n_list=okt.nouns(new1)"
   ]
  },
  {
   "cell_type": "code",
   "execution_count": 7,
   "metadata": {},
   "outputs": [
    {
     "data": {
      "text/plain": [
       "343"
      ]
     },
     "execution_count": 7,
     "metadata": {},
     "output_type": "execute_result"
    }
   ],
   "source": [
    "len(n_list)"
   ]
  },
  {
   "cell_type": "code",
   "execution_count": 8,
   "metadata": {},
   "outputs": [],
   "source": [
    "counter= {}\n",
    "for n in n_list:\n",
    "    if n not in counter:\n",
    "        if len(n) <=1:\n",
    "            continue #1글자 제외\n",
    "        counter[n]=0\n",
    "    counter[n] +=1\n",
    "    "
   ]
  },
  {
   "cell_type": "code",
   "execution_count": 16,
   "metadata": {},
   "outputs": [
    {
     "data": {
      "text/plain": [
       "dict"
      ]
     },
     "execution_count": 16,
     "metadata": {},
     "output_type": "execute_result"
    }
   ],
   "source": [
    "type(counter)"
   ]
  },
  {
   "cell_type": "code",
   "execution_count": 14,
   "metadata": {},
   "outputs": [
    {
     "data": {
      "text/plain": [
       "<function list.index(value, start=0, stop=9223372036854775807, /)>"
      ]
     },
     "execution_count": 14,
     "metadata": {},
     "output_type": "execute_result"
    }
   ],
   "source": [
    "#정렬  reverse=True 역순정렬\n",
    "counter_sort=sorted(counter.items(),key=operator.itemgetter(1),reverse=True)\n",
    "counter_sort.index"
   ]
  },
  {
   "cell_type": "code",
   "execution_count": 15,
   "metadata": {},
   "outputs": [
    {
     "ename": "SyntaxError",
     "evalue": "expected ':' (2884557836.py, line 1)",
     "output_type": "error",
     "traceback": [
      "\u001b[1;36m  Cell \u001b[1;32mIn[15], line 1\u001b[1;36m\u001b[0m\n\u001b[1;33m    for key in counter_sort.keys()\u001b[0m\n\u001b[1;37m                                  ^\u001b[0m\n\u001b[1;31mSyntaxError\u001b[0m\u001b[1;31m:\u001b[0m expected ':'\n"
     ]
    }
   ],
   "source": [
    "k_list=[]\n",
    "for key in counter_sort.keys():\n",
    "    "
   ]
  },
  {
   "cell_type": "code",
   "execution_count": 17,
   "metadata": {},
   "outputs": [
    {
     "ename": "ModuleNotFoundError",
     "evalue": "No module named 'pygame'",
     "output_type": "error",
     "traceback": [
      "\u001b[1;31m---------------------------------------------------------------------------\u001b[0m",
      "\u001b[1;31mModuleNotFoundError\u001b[0m                       Traceback (most recent call last)",
      "Cell \u001b[1;32mIn[17], line 1\u001b[0m\n\u001b[1;32m----> 1\u001b[0m \u001b[38;5;28;01mimport\u001b[39;00m \u001b[38;5;21;01mpytagcloud\u001b[39;00m\n\u001b[0;32m      2\u001b[0m pytagcloud\u001b[38;5;241m.\u001b[39mcreate_tag_image(counter_sort,\u001b[38;5;124m'\u001b[39m\u001b[38;5;124mword.jpg\u001b[39m\u001b[38;5;124m'\u001b[39m,size\u001b[38;5;241m=\u001b[39m(\u001b[38;5;241m900\u001b[39m,\u001b[38;5;241m600\u001b[39m),fontname\u001b[38;5;241m=\u001b[39m\u001b[38;5;124m'\u001b[39m\u001b[38;5;124mNanumBarunGothic\u001b[39m\u001b[38;5;124m'\u001b[39m,rectangular\u001b[38;5;241m=\u001b[39m\u001b[38;5;28;01mFalse\u001b[39;00m)\n\u001b[0;32m      4\u001b[0m \u001b[38;5;66;03m# remove_counter=Counter({})\u001b[39;00m\n",
      "File \u001b[1;32mc:\\Python312\\Lib\\site-packages\\pytagcloud\\__init__.py:4\u001b[0m\n\u001b[0;32m      2\u001b[0m \u001b[38;5;28;01mfrom\u001b[39;00m \u001b[38;5;21;01mcopy\u001b[39;00m \u001b[38;5;28;01mimport\u001b[39;00m copy\n\u001b[0;32m      3\u001b[0m \u001b[38;5;28;01mfrom\u001b[39;00m \u001b[38;5;21;01mmath\u001b[39;00m \u001b[38;5;28;01mimport\u001b[39;00m sin, cos, ceil\n\u001b[1;32m----> 4\u001b[0m \u001b[38;5;28;01mfrom\u001b[39;00m \u001b[38;5;21;01mpygame\u001b[39;00m \u001b[38;5;28;01mimport\u001b[39;00m transform, font, mask, Surface, Rect, SRCALPHA, draw\n\u001b[0;32m      5\u001b[0m \u001b[38;5;28;01mfrom\u001b[39;00m \u001b[38;5;21;01mpygame\u001b[39;00m\u001b[38;5;21;01m.\u001b[39;00m\u001b[38;5;21;01msprite\u001b[39;00m \u001b[38;5;28;01mimport\u001b[39;00m Group, Sprite, collide_mask\n\u001b[0;32m      6\u001b[0m \u001b[38;5;28;01mfrom\u001b[39;00m \u001b[38;5;21;01mrandom\u001b[39;00m \u001b[38;5;28;01mimport\u001b[39;00m randint, choice\n",
      "\u001b[1;31mModuleNotFoundError\u001b[0m: No module named 'pygame'"
     ]
    }
   ],
   "source": [
    "import pytagcloud\n",
    "pytagcloud.create_tag_image(counter_sort,'word.jpg',size=(900,600),fontname='NanumBarunGothic',rectangular=False)\n",
    "\n",
    "# remove_counter=Counter({})"
   ]
  }
 ],
 "metadata": {
  "kernelspec": {
   "display_name": "Python 3",
   "language": "python",
   "name": "python3"
  },
  "language_info": {
   "codemirror_mode": {
    "name": "ipython",
    "version": 3
   },
   "file_extension": ".py",
   "mimetype": "text/x-python",
   "name": "python",
   "nbconvert_exporter": "python",
   "pygments_lexer": "ipython3",
   "version": "3.12.0"
  }
 },
 "nbformat": 4,
 "nbformat_minor": 2
}
