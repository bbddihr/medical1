{
 "cells": [
  {
   "cell_type": "code",
   "execution_count": 1,
   "metadata": {},
   "outputs": [],
   "source": [
    "# !pip install konlpy\n",
    "import os\n",
    "import json\n",
    "from konlpy.tag import Komoran\n",
    "import pandas as pd\n",
    "tokenizer = Komoran()"
   ]
  },
  {
   "cell_type": "markdown",
   "metadata": {},
   "source": [
    "Komoran 라이브러리 활용하여 문장별 형태소 tokenize. 후 주격조사, 목적격 조사 등 중요도가 떨어지는 형태소들을 제외한 핵심 형태소 추출. 문장별 핵심 형태소 길이 분포 파악."
   ]
  },
  {
   "cell_type": "code",
   "execution_count": 2,
   "metadata": {},
   "outputs": [],
   "source": [
    "path = './치료' \n",
    "file_list = os.listdir(path)\n",
    "# 경로 내에 파일을 모두 불러옴\n",
    "\n",
    "json_file_list = [file for file in file_list if file.endswith('.json')]\n",
    "#json 확장자를 가진 파일로 새로운 리스트 생성"
   ]
  },
  {
   "cell_type": "code",
   "execution_count": 5,
   "metadata": {},
   "outputs": [
    {
     "name": "stdout",
     "output_type": "stream",
     "text": [
      "{'disease_category': '감염성질환',\n",
      " 'disease_name': {'eng': 'Tuberculosis', 'kor': '결핵'},\n",
      " 'entities': [{'entity': '질환명', 'id': 0, 'position': 1, 'text': '결핵'}],\n",
      " 'fileName': 'HC-Q-1124657',\n",
      " 'intention': '치료',\n",
      " 'num_of_words': 7,\n",
      " 'participantsInfo': {'age': '20대',\n",
      "                      'gender': '여성',\n",
      "                      'history': False,\n",
      "                      'occupation': '사무직',\n",
      "                      'participantID': 'QC298',\n",
      "                      'rPlace': '서울/경기/인천'},\n",
      " 'question': '폐결핵을 치료하는 데에는 어떤 치료 옵션이 효과적일까요?'}\n"
     ]
    }
   ],
   "source": [
    "from pprint import pprint \n",
    "with open('치료/HC-Q-1124657.json') as f:\n",
    "    jdata = json.load(f) \n",
    "    \n",
    "pprint(jdata)"
   ]
  },
  {
   "cell_type": "code",
   "execution_count": null,
   "metadata": {},
   "outputs": [],
   "source": [
    "def loadLinesAndConversations(fileName):\n",
    "    lines = {}\n",
    "    conversations = {}\n",
    "    with open(fileName, 'r', encoding='utf-8') as f:\n",
    "        for line in f:\n",
    "            lineJson = json.loads(line)\n",
    "            # 필드를 추출하여 line 객체를 구성합니다\n",
    "            lineObj = {}\n",
    "            lineObj[\"intention\"] = lineJson[\"intention\"]\n",
    "            lineObj[\"question\"] = lineJson[\"question\"]\n",
    "            lineObj[\"text\"] = lineJson[\"text\"]\n",
    "            lines[lineObj['lineID']] = lineObj\n",
    "\n",
    "            # 필드를 추출하여 conversation 객체를 구성합니다\n",
    "            if lineJson[\"conversation_id\"] not in conversations:\n",
    "                convObj = {}\n",
    "                convObj[\"conversationID\"] = lineJson[\"conversation_id\"]\n",
    "                convObj[\"movieID\"] = lineJson[\"meta\"][\"movie_id\"]\n",
    "                convObj[\"lines\"] = [lineObj]\n",
    "            else:\n",
    "                convObj = conversations[lineJson[\"conversation_id\"]]\n",
    "                convObj[\"lines\"].insert(0, lineObj)\n",
    "            conversations[convObj[\"conversationID\"]] = convObj\n",
    "\n",
    "    return lines, conversations"
   ]
  },
  {
   "cell_type": "code",
   "execution_count": null,
   "metadata": {},
   "outputs": [],
   "source": [
    "\n",
    "\n",
    "# conversation들에서 문장 쌍을 추출합니다\n",
    "def extractSentencePairs(conversations):\n",
    "    qa_pairs = []\n",
    "    for conversation in conversations.values():\n",
    "        # 대화를 이루는 각 대사에 대해 반복문을 수행합니다\n",
    "        # 대화의 마지막 대사는 (그에 대한 응답이 없으므로) 무시합니다\n",
    "        for i in range(len(conversation[\"lines\"]) - 1):\n",
    "            inputLine = conversation[\"lines\"][i][\"text\"].strip()\n",
    "            targetLine = conversation[\"lines\"][i+1][\"text\"].strip()\n",
    "            # 잘못된 샘플은 제거합니다(리스트가 하나라도 비어 있는 경우)\n",
    "            if inputLine and targetLine:\n",
    "                qa_pairs.append([inputLine, targetLine])\n",
    "    return qa_pairs"
   ]
  },
  {
   "cell_type": "code",
   "execution_count": null,
   "metadata": {},
   "outputs": [],
   "source": []
  },
  {
   "cell_type": "code",
   "execution_count": null,
   "metadata": {},
   "outputs": [],
   "source": []
  },
  {
   "cell_type": "code",
   "execution_count": null,
   "metadata": {},
   "outputs": [],
   "source": []
  },
  {
   "cell_type": "code",
   "execution_count": null,
   "metadata": {},
   "outputs": [],
   "source": []
  },
  {
   "cell_type": "code",
   "execution_count": null,
   "metadata": {},
   "outputs": [],
   "source": []
  },
  {
   "cell_type": "code",
   "execution_count": null,
   "metadata": {},
   "outputs": [],
   "source": []
  },
  {
   "cell_type": "code",
   "execution_count": null,
   "metadata": {},
   "outputs": [],
   "source": []
  }
 ],
 "metadata": {
  "kernelspec": {
   "display_name": "Python 3",
   "language": "python",
   "name": "python3"
  },
  "language_info": {
   "codemirror_mode": {
    "name": "ipython",
    "version": 3
   },
   "file_extension": ".py",
   "mimetype": "text/x-python",
   "name": "python",
   "nbconvert_exporter": "python",
   "pygments_lexer": "ipython3",
   "version": "3.11.7"
  }
 },
 "nbformat": 4,
 "nbformat_minor": 2
}
