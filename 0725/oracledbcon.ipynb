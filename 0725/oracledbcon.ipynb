{
 "cells": [
  {
   "cell_type": "code",
   "execution_count": 2,
   "metadata": {},
   "outputs": [
    {
     "name": "stdout",
     "output_type": "stream",
     "text": [
      "Collecting pymysql\n",
      "  Downloading PyMySQL-1.1.1-py3-none-any.whl.metadata (4.4 kB)\n",
      "Downloading PyMySQL-1.1.1-py3-none-any.whl (44 kB)\n",
      "   ---------------------------------------- 0.0/45.0 kB ? eta -:--:--\n",
      "   --------- ------------------------------ 10.2/45.0 kB ? eta -:--:--\n",
      "   ------------------ --------------------- 20.5/45.0 kB 320.0 kB/s eta 0:00:01\n",
      "   ---------------------------------------- 45.0/45.0 kB 445.3 kB/s eta 0:00:00\n",
      "Installing collected packages: pymysql\n",
      "Successfully installed pymysql-1.1.1\n",
      "Note: you may need to restart the kernel to use updated packages.\n"
     ]
    }
   ],
   "source": [
    "pip install pymysql"
   ]
  },
  {
   "cell_type": "code",
   "execution_count": 3,
   "metadata": {},
   "outputs": [],
   "source": [
    "import pymysql"
   ]
  },
  {
   "cell_type": "code",
   "execution_count": 5,
   "metadata": {},
   "outputs": [
    {
     "name": "stdout",
     "output_type": "stream",
     "text": [
      "Collecting oracledb\n",
      "  Downloading oracledb-2.3.0-cp311-cp311-win_amd64.whl.metadata (5.3 kB)\n",
      "Requirement already satisfied: cryptography>=3.2.1 in c:\\users\\koreavc\\anaconda3\\lib\\site-packages (from oracledb) (42.0.2)\n",
      "Requirement already satisfied: cffi>=1.12 in c:\\users\\koreavc\\anaconda3\\lib\\site-packages (from cryptography>=3.2.1->oracledb) (1.16.0)\n",
      "Requirement already satisfied: pycparser in c:\\users\\koreavc\\anaconda3\\lib\\site-packages (from cffi>=1.12->cryptography>=3.2.1->oracledb) (2.21)\n",
      "Downloading oracledb-2.3.0-cp311-cp311-win_amd64.whl (1.7 MB)\n",
      "   ---------------------------------------- 0.0/1.7 MB ? eta -:--:--\n",
      "   ---------------------------------------- 0.0/1.7 MB ? eta -:--:--\n",
      "    --------------------------------------- 0.0/1.7 MB 653.6 kB/s eta 0:00:03\n",
      "   --------- ------------------------------ 0.4/1.7 MB 3.5 MB/s eta 0:00:01\n",
      "   ------------------- -------------------- 0.8/1.7 MB 5.2 MB/s eta 0:00:01\n",
      "   ------------------------------- -------- 1.3/1.7 MB 7.0 MB/s eta 0:00:01\n",
      "   ---------------------------------------- 1.7/1.7 MB 7.1 MB/s eta 0:00:00\n",
      "Installing collected packages: oracledb\n",
      "Successfully installed oracledb-2.3.0\n"
     ]
    }
   ],
   "source": [
    "!pip install oracledb"
   ]
  },
  {
   "cell_type": "code",
   "execution_count": 6,
   "metadata": {},
   "outputs": [],
   "source": [
    "import oracledb"
   ]
  },
  {
   "cell_type": "code",
   "execution_count": 9,
   "metadata": {},
   "outputs": [
    {
     "name": "stdout",
     "output_type": "stream",
     "text": [
      "데이터베이스 연결 성공\n"
     ]
    }
   ],
   "source": [
    "con = oracledb.connect(user=\"ora_user\", password=\"1111\", dsn=\"localhost:1521/xe\")   # DB에 연결 (호스트이름 대신 IP주소 가능)\n",
    "cursor = con.cursor()   # 연결된 DB 지시자(커서) 생성\n",
    "print(\"데이터베이스 연결 성공\")"
   ]
  },
  {
   "cell_type": "code",
   "execution_count": 10,
   "metadata": {},
   "outputs": [
    {
     "name": "stdout",
     "output_type": "stream",
     "text": [
      "(198, 'Donald OConnell', 'DOCONNEL', '650.507.9833', datetime.datetime(2007, 6, 21, 0, 0), 2600.0, 124, None, None, 50, 'SH_CLERK', datetime.datetime(2014, 1, 8, 13, 44, 45), datetime.datetime(2014, 1, 8, 13, 44, 45))\n",
      "(199, 'Douglas Grant', 'DGRANT', '650.507.9844', datetime.datetime(2008, 1, 13, 0, 0), 2600.0, 124, None, None, 50, 'SH_CLERK', datetime.datetime(2014, 1, 8, 13, 44, 45), datetime.datetime(2014, 1, 8, 13, 44, 45))\n",
      "(200, 'Jennifer Whalen', 'JWHALEN', '515.123.4444', datetime.datetime(2003, 9, 17, 0, 0), 4400.0, 101, None, None, 10, 'AD_ASST', datetime.datetime(2014, 1, 8, 13, 44, 45), datetime.datetime(2014, 1, 8, 13, 44, 45))\n",
      "(201, 'Michael Hartstein', 'MHARTSTE', '515.123.5555', datetime.datetime(2004, 2, 17, 0, 0), 13000.0, 100, None, None, 20, 'MK_MAN', datetime.datetime(2014, 1, 8, 13, 44, 45), datetime.datetime(2014, 1, 8, 13, 44, 45))\n",
      "(202, 'Pat Fay', 'PFAY', '603.123.6666', datetime.datetime(2005, 8, 17, 0, 0), 6000.0, 201, None, None, 20, 'MK_REP', datetime.datetime(2014, 1, 8, 13, 44, 45), datetime.datetime(2014, 1, 8, 13, 44, 45))\n",
      "(203, 'Susan Mavris', 'SMAVRIS', '515.123.7777', datetime.datetime(2002, 6, 7, 0, 0), 6500.0, 101, None, None, 40, 'HR_REP', datetime.datetime(2014, 1, 8, 13, 44, 45), datetime.datetime(2014, 1, 8, 13, 44, 45))\n",
      "(204, 'Hermann Baer', 'HBAER', '515.123.8888', datetime.datetime(2002, 6, 7, 0, 0), 10000.0, 101, None, None, 70, 'PR_REP', datetime.datetime(2014, 1, 8, 13, 44, 45), datetime.datetime(2014, 1, 8, 13, 44, 45))\n",
      "(205, 'Shelley Higgins', 'SHIGGINS', '515.123.8080', datetime.datetime(2002, 6, 7, 0, 0), 12008.0, 101, None, None, 110, 'AC_MGR', datetime.datetime(2014, 1, 8, 13, 44, 45), datetime.datetime(2014, 1, 8, 13, 44, 45))\n",
      "(206, 'William Gietz', 'WGIETZ', '515.123.8181', datetime.datetime(2002, 6, 7, 0, 0), 8300.0, 205, None, None, 110, 'AC_ACCOUNT', datetime.datetime(2014, 1, 8, 13, 44, 45), datetime.datetime(2014, 1, 8, 13, 44, 45))\n",
      "(100, 'Steven King', 'SKING', '515.123.4567', datetime.datetime(2003, 6, 17, 0, 0), 24000.0, None, None, None, 90, 'AD_PRES', datetime.datetime(2014, 1, 8, 13, 44, 45), datetime.datetime(2014, 1, 8, 13, 44, 45))\n",
      "(101, 'Neena Kochhar', 'NKOCHHAR', '515.123.4568', datetime.datetime(2005, 9, 21, 0, 0), 17000.0, 100, None, None, 90, 'AD_VP', datetime.datetime(2014, 1, 8, 13, 44, 45), datetime.datetime(2014, 1, 8, 13, 44, 45))\n",
      "(102, 'Lex De Haan', 'LDEHAAN', '515.123.4569', datetime.datetime(2001, 1, 13, 0, 0), 17000.0, 100, None, None, 90, 'AD_VP', datetime.datetime(2014, 1, 8, 13, 44, 45), datetime.datetime(2014, 1, 8, 13, 44, 45))\n",
      "(103, 'Alexander Hunold', 'AHUNOLD', '590.423.4567', datetime.datetime(2006, 1, 3, 0, 0), 9000.0, 102, None, None, 60, 'IT_PROG', datetime.datetime(2014, 1, 8, 13, 44, 45), datetime.datetime(2014, 1, 8, 13, 44, 45))\n",
      "(104, 'Bruce Ernst', 'BERNST', '590.423.4568', datetime.datetime(2007, 5, 21, 0, 0), 6000.0, 103, None, None, 60, 'IT_PROG', datetime.datetime(2014, 1, 8, 13, 44, 45), datetime.datetime(2014, 1, 8, 13, 44, 45))\n",
      "(105, 'David Austin', 'DAUSTIN', '590.423.4569', datetime.datetime(2005, 6, 25, 0, 0), 4800.0, 103, None, None, 60, 'IT_PROG', datetime.datetime(2014, 1, 8, 13, 44, 45), datetime.datetime(2014, 1, 8, 13, 44, 45))\n",
      "(106, 'Valli Pataballa', 'VPATABAL', '590.423.4560', datetime.datetime(2006, 2, 5, 0, 0), 4800.0, 103, None, None, 60, 'IT_PROG', datetime.datetime(2014, 1, 8, 13, 44, 45), datetime.datetime(2014, 1, 8, 13, 44, 45))\n",
      "(107, 'Diana Lorentz', 'DLORENTZ', '590.423.5567', datetime.datetime(2007, 2, 7, 0, 0), 4200.0, 103, None, None, 60, 'IT_PROG', datetime.datetime(2014, 1, 8, 13, 44, 45), datetime.datetime(2014, 1, 8, 13, 44, 45))\n",
      "(108, 'Nancy Greenberg', 'NGREENBE', '515.124.4569', datetime.datetime(2002, 8, 17, 0, 0), 12008.0, 101, None, None, 100, 'FI_MGR', datetime.datetime(2014, 1, 8, 13, 44, 45), datetime.datetime(2014, 1, 8, 13, 44, 45))\n",
      "(109, 'Daniel Faviet', 'DFAVIET', '515.124.4169', datetime.datetime(2002, 8, 16, 0, 0), 9000.0, 108, None, None, 100, 'FI_ACCOUNT', datetime.datetime(2014, 1, 8, 13, 44, 45), datetime.datetime(2014, 1, 8, 13, 44, 45))\n",
      "(110, 'John Chen', 'JCHEN', '515.124.4269', datetime.datetime(2005, 9, 28, 0, 0), 8200.0, 108, None, None, 100, 'FI_ACCOUNT', datetime.datetime(2014, 1, 8, 13, 44, 45), datetime.datetime(2014, 1, 8, 13, 44, 45))\n",
      "(111, 'Ismael Sciarra', 'ISCIARRA', '515.124.4369', datetime.datetime(2005, 9, 30, 0, 0), 7700.0, 108, None, None, 100, 'FI_ACCOUNT', datetime.datetime(2014, 1, 8, 13, 44, 45), datetime.datetime(2014, 1, 8, 13, 44, 45))\n",
      "(112, 'Jose Manuel Urman', 'JMURMAN', '515.124.4469', datetime.datetime(2006, 3, 7, 0, 0), 7800.0, 108, None, None, 100, 'FI_ACCOUNT', datetime.datetime(2014, 1, 8, 13, 44, 45), datetime.datetime(2014, 1, 8, 13, 44, 45))\n",
      "(113, 'Luis Popp', 'LPOPP', '515.124.4567', datetime.datetime(2007, 12, 7, 0, 0), 6900.0, 108, None, None, 100, 'FI_ACCOUNT', datetime.datetime(2014, 1, 8, 13, 44, 45), datetime.datetime(2014, 1, 8, 13, 44, 45))\n",
      "(114, 'Den Raphaely', 'DRAPHEAL', '515.127.4561', datetime.datetime(2002, 12, 7, 0, 0), 11000.0, 100, None, None, 30, 'PU_MAN', datetime.datetime(2014, 1, 8, 13, 44, 45), datetime.datetime(2014, 1, 8, 13, 44, 45))\n",
      "(115, 'Alexander Khoo', 'AKHOO', '515.127.4562', datetime.datetime(2003, 5, 18, 0, 0), 3100.0, 114, None, None, 30, 'PU_CLERK', datetime.datetime(2014, 1, 8, 13, 44, 45), datetime.datetime(2014, 1, 8, 13, 44, 45))\n",
      "(116, 'Shelli Baida', 'SBAIDA', '515.127.4563', datetime.datetime(2005, 12, 24, 0, 0), 2900.0, 114, None, None, 30, 'PU_CLERK', datetime.datetime(2014, 1, 8, 13, 44, 45), datetime.datetime(2014, 1, 8, 13, 44, 45))\n",
      "(117, 'Sigal Tobias', 'STOBIAS', '515.127.4564', datetime.datetime(2005, 7, 24, 0, 0), 2800.0, 114, None, None, 30, 'PU_CLERK', datetime.datetime(2014, 1, 8, 13, 44, 45), datetime.datetime(2014, 1, 8, 13, 44, 45))\n",
      "(118, 'Guy Himuro', 'GHIMURO', '515.127.4565', datetime.datetime(2006, 11, 15, 0, 0), 2600.0, 114, None, None, 30, 'PU_CLERK', datetime.datetime(2014, 1, 8, 13, 44, 45), datetime.datetime(2014, 1, 8, 13, 44, 45))\n",
      "(119, 'Karen Colmenares', 'KCOLMENA', '515.127.4566', datetime.datetime(2007, 8, 10, 0, 0), 2500.0, 114, None, None, 30, 'PU_CLERK', datetime.datetime(2014, 1, 8, 13, 44, 45), datetime.datetime(2014, 1, 8, 13, 44, 45))\n",
      "(120, 'Matthew Weiss', 'MWEISS', '650.123.1234', datetime.datetime(2004, 7, 18, 0, 0), 8000.0, 100, None, None, 50, 'ST_MAN', datetime.datetime(2014, 1, 8, 13, 44, 45), datetime.datetime(2014, 1, 8, 13, 44, 45))\n",
      "(121, 'Adam Fripp', 'AFRIPP', '650.123.2234', datetime.datetime(2005, 4, 10, 0, 0), 8200.0, 100, None, None, 50, 'ST_MAN', datetime.datetime(2014, 1, 8, 13, 44, 45), datetime.datetime(2014, 1, 8, 13, 44, 45))\n",
      "(122, 'Payam Kaufling', 'PKAUFLIN', '650.123.3234', datetime.datetime(2003, 5, 1, 0, 0), 7900.0, 100, None, None, 50, 'ST_MAN', datetime.datetime(2014, 1, 8, 13, 44, 45), datetime.datetime(2014, 1, 8, 13, 44, 45))\n",
      "(123, 'Shanta Vollman', 'SVOLLMAN', '650.123.4234', datetime.datetime(2005, 10, 10, 0, 0), 6500.0, 100, None, None, 50, 'ST_MAN', datetime.datetime(2014, 1, 8, 13, 44, 45), datetime.datetime(2014, 1, 8, 13, 44, 45))\n",
      "(124, 'Kevin Mourgos', 'KMOURGOS', '650.123.5234', datetime.datetime(2007, 11, 16, 0, 0), 5800.0, 100, None, None, 50, 'ST_MAN', datetime.datetime(2014, 1, 8, 13, 44, 45), datetime.datetime(2014, 1, 8, 13, 44, 45))\n",
      "(125, 'Julia Nayer', 'JNAYER', '650.124.1214', datetime.datetime(2005, 7, 16, 0, 0), 3200.0, 120, None, None, 50, 'ST_CLERK', datetime.datetime(2014, 1, 8, 13, 44, 45), datetime.datetime(2014, 1, 8, 13, 44, 45))\n",
      "(126, 'Irene Mikkilineni', 'IMIKKILI', '650.124.1224', datetime.datetime(2006, 9, 28, 0, 0), 2700.0, 120, None, None, 50, 'ST_CLERK', datetime.datetime(2014, 1, 8, 13, 44, 45), datetime.datetime(2014, 1, 8, 13, 44, 45))\n",
      "(127, 'James Landry', 'JLANDRY', '650.124.1334', datetime.datetime(2007, 1, 14, 0, 0), 2400.0, 120, None, None, 50, 'ST_CLERK', datetime.datetime(2014, 1, 8, 13, 44, 45), datetime.datetime(2014, 1, 8, 13, 44, 45))\n",
      "(128, 'Steven Markle', 'SMARKLE', '650.124.1434', datetime.datetime(2008, 3, 8, 0, 0), 2200.0, 120, None, None, 50, 'ST_CLERK', datetime.datetime(2014, 1, 8, 13, 44, 45), datetime.datetime(2014, 1, 8, 13, 44, 45))\n",
      "(129, 'Laura Bissot', 'LBISSOT', '650.124.5234', datetime.datetime(2005, 8, 20, 0, 0), 3300.0, 121, None, None, 50, 'ST_CLERK', datetime.datetime(2014, 1, 8, 13, 44, 45), datetime.datetime(2014, 1, 8, 13, 44, 45))\n",
      "(130, 'Mozhe Atkinson', 'MATKINSO', '650.124.6234', datetime.datetime(2005, 10, 30, 0, 0), 2800.0, 121, None, None, 50, 'ST_CLERK', datetime.datetime(2014, 1, 8, 13, 44, 45), datetime.datetime(2014, 1, 8, 13, 44, 45))\n",
      "(131, 'James Marlow', 'JAMRLOW', '650.124.7234', datetime.datetime(2005, 2, 16, 0, 0), 2500.0, 121, None, None, 50, 'ST_CLERK', datetime.datetime(2014, 1, 8, 13, 44, 45), datetime.datetime(2014, 1, 8, 13, 44, 45))\n",
      "(132, 'TJ Olson', 'TJOLSON', '650.124.8234', datetime.datetime(2007, 4, 10, 0, 0), 2100.0, 121, None, None, 50, 'ST_CLERK', datetime.datetime(2014, 1, 8, 13, 44, 45), datetime.datetime(2014, 1, 8, 13, 44, 45))\n",
      "(133, 'Jason Mallin', 'JMALLIN', '650.127.1934', datetime.datetime(2004, 6, 14, 0, 0), 3300.0, 122, None, None, 50, 'ST_CLERK', datetime.datetime(2014, 1, 8, 13, 44, 45), datetime.datetime(2014, 1, 8, 13, 44, 45))\n",
      "(134, 'Michael Rogers', 'MROGERS', '650.127.1834', datetime.datetime(2006, 8, 26, 0, 0), 2900.0, 122, None, None, 50, 'ST_CLERK', datetime.datetime(2014, 1, 8, 13, 44, 45), datetime.datetime(2014, 1, 8, 13, 44, 45))\n",
      "(135, 'Ki Gee', 'KGEE', '650.127.1734', datetime.datetime(2007, 12, 12, 0, 0), 2400.0, 122, None, None, 50, 'ST_CLERK', datetime.datetime(2014, 1, 8, 13, 44, 45), datetime.datetime(2014, 1, 8, 13, 44, 45))\n",
      "(136, 'Hazel Philtanker', 'HPHILTAN', '650.127.1634', datetime.datetime(2008, 2, 6, 0, 0), 2200.0, 122, None, None, 50, 'ST_CLERK', datetime.datetime(2014, 1, 8, 13, 44, 45), datetime.datetime(2014, 1, 8, 13, 44, 45))\n",
      "(137, 'Renske Ladwig', 'RLADWIG', '650.121.1234', datetime.datetime(2003, 7, 14, 0, 0), 3600.0, 123, None, None, 50, 'ST_CLERK', datetime.datetime(2014, 1, 8, 13, 44, 45), datetime.datetime(2014, 1, 8, 13, 44, 45))\n",
      "(138, 'Stephen Stiles', 'SSTILES', '650.121.2034', datetime.datetime(2005, 10, 26, 0, 0), 3200.0, 123, None, None, 50, 'ST_CLERK', datetime.datetime(2014, 1, 8, 13, 44, 45), datetime.datetime(2014, 1, 8, 13, 44, 45))\n",
      "(139, 'John Seo', 'JSEO', '650.121.2019', datetime.datetime(2006, 2, 12, 0, 0), 2700.0, 123, None, None, 50, 'ST_CLERK', datetime.datetime(2014, 1, 8, 13, 44, 45), datetime.datetime(2014, 1, 8, 13, 44, 45))\n",
      "(140, 'Joshua Patel', 'JPATEL', '650.121.1834', datetime.datetime(2006, 4, 6, 0, 0), 2500.0, 123, None, None, 50, 'ST_CLERK', datetime.datetime(2014, 1, 8, 13, 44, 45), datetime.datetime(2014, 1, 8, 13, 44, 45))\n",
      "(141, 'Trenna Rajs', 'TRAJS', '650.121.8009', datetime.datetime(2003, 10, 17, 0, 0), 3500.0, 124, None, None, 50, 'ST_CLERK', datetime.datetime(2014, 1, 8, 13, 44, 45), datetime.datetime(2014, 1, 8, 13, 44, 45))\n",
      "(142, 'Curtis Davies', 'CDAVIES', '650.121.2994', datetime.datetime(2005, 1, 29, 0, 0), 3100.0, 124, None, None, 50, 'ST_CLERK', datetime.datetime(2014, 1, 8, 13, 44, 45), datetime.datetime(2014, 1, 8, 13, 44, 45))\n",
      "(143, 'Randall Matos', 'RMATOS', '650.121.2874', datetime.datetime(2006, 3, 15, 0, 0), 2600.0, 124, None, None, 50, 'ST_CLERK', datetime.datetime(2014, 1, 8, 13, 44, 45), datetime.datetime(2014, 1, 8, 13, 44, 45))\n",
      "(144, 'Peter Vargas', 'PVARGAS', '650.121.2004', datetime.datetime(2006, 7, 9, 0, 0), 2500.0, 124, None, None, 50, 'ST_CLERK', datetime.datetime(2014, 1, 8, 13, 44, 45), datetime.datetime(2014, 1, 8, 13, 44, 45))\n",
      "(145, 'John Russell', 'JRUSSEL', '011.44.1344.429268', datetime.datetime(1998, 10, 1, 0, 0), 14000.0, 100, 0.4, None, 80, 'SA_MAN', datetime.datetime(2014, 1, 8, 13, 44, 45), datetime.datetime(2014, 1, 8, 13, 44, 45))\n",
      "(146, 'Karen Partners', 'KPARTNER', '011.44.1344.467268', datetime.datetime(1999, 1, 5, 0, 0), 13500.0, 100, 0.3, None, 80, 'SA_MAN', datetime.datetime(2014, 1, 8, 13, 44, 45), datetime.datetime(2014, 1, 8, 13, 44, 45))\n",
      "(147, 'Alberto Errazuriz', 'AERRAZUR', '011.44.1344.429278', datetime.datetime(1999, 3, 10, 0, 0), 12000.0, 100, 0.3, None, 80, 'SA_MAN', datetime.datetime(2014, 1, 8, 13, 44, 45), datetime.datetime(2014, 1, 8, 13, 44, 45))\n",
      "(148, 'Gerald Cambrault', 'GCAMBRAU', '011.44.1344.619268', datetime.datetime(2000, 10, 15, 0, 0), 11000.0, 100, 0.3, None, 80, 'SA_MAN', datetime.datetime(2014, 1, 8, 13, 44, 45), datetime.datetime(2014, 1, 8, 13, 44, 45))\n",
      "(149, 'Eleni Zlotkey', 'EZLOTKEY', '011.44.1344.429018', datetime.datetime(2001, 1, 29, 0, 0), 10500.0, 100, 0.2, None, 80, 'SA_MAN', datetime.datetime(2014, 1, 8, 13, 44, 45), datetime.datetime(2014, 1, 8, 13, 44, 45))\n",
      "(150, 'Peter Tucker', 'PTUCKER', '011.44.1344.129268', datetime.datetime(1999, 1, 30, 0, 0), 10000.0, 145, 0.3, None, 80, 'SA_REP', datetime.datetime(2014, 1, 8, 13, 44, 45), datetime.datetime(2014, 1, 8, 13, 44, 45))\n",
      "(151, 'David Bernstein', 'DBERNSTE', '011.44.1344.345268', datetime.datetime(1999, 10, 24, 0, 0), 9500.0, 145, 0.25, None, 80, 'SA_REP', datetime.datetime(2014, 1, 8, 13, 44, 45), datetime.datetime(2014, 1, 8, 13, 44, 45))\n",
      "(152, 'Peter Hall', 'PHALL', '011.44.1344.478968', datetime.datetime(1999, 8, 20, 0, 0), 9000.0, 145, 0.25, None, 80, 'SA_REP', datetime.datetime(2014, 1, 8, 13, 44, 45), datetime.datetime(2014, 1, 8, 13, 44, 45))\n",
      "(153, 'Christopher Olsen', 'COLSEN', '011.44.1344.498718', datetime.datetime(2000, 8, 30, 0, 0), 8000.0, 145, 0.2, None, 80, 'SA_REP', datetime.datetime(2014, 1, 8, 13, 44, 45), datetime.datetime(2014, 1, 8, 13, 44, 45))\n",
      "(154, 'Nanette Cambrault', 'NCAMBRAU', '011.44.1344.987668', datetime.datetime(2000, 12, 9, 0, 0), 7500.0, 145, 0.2, None, 80, 'SA_REP', datetime.datetime(2014, 1, 8, 13, 44, 45), datetime.datetime(2014, 1, 8, 13, 44, 45))\n",
      "(155, 'Oliver Tuvault', 'OTUVAULT', '011.44.1344.486508', datetime.datetime(2000, 11, 23, 0, 0), 7000.0, 145, 0.15, None, 80, 'SA_REP', datetime.datetime(2014, 1, 8, 13, 44, 45), datetime.datetime(2014, 1, 8, 13, 44, 45))\n",
      "(156, 'Janette King', 'JKING', '011.44.1345.429268', datetime.datetime(1998, 1, 30, 0, 0), 10000.0, 146, 0.35, None, 80, 'SA_REP', datetime.datetime(2014, 1, 8, 13, 44, 45), datetime.datetime(2014, 1, 8, 13, 44, 45))\n",
      "(157, 'Patrick Sully', 'PSULLY', '011.44.1345.929268', datetime.datetime(1998, 3, 4, 0, 0), 9500.0, 146, 0.35, None, 80, 'SA_REP', datetime.datetime(2014, 1, 8, 13, 44, 45), datetime.datetime(2014, 1, 8, 13, 44, 45))\n",
      "(158, 'Allan McEwen', 'AMCEWEN', '011.44.1345.829268', datetime.datetime(1998, 8, 1, 0, 0), 9000.0, 146, 0.35, None, 80, 'SA_REP', datetime.datetime(2014, 1, 8, 13, 44, 45), datetime.datetime(2014, 1, 8, 13, 44, 45))\n",
      "(159, 'Lindsey Smith', 'LSMITH', '011.44.1345.729268', datetime.datetime(1999, 5, 11, 0, 0), 8000.0, 146, 0.3, None, 80, 'SA_REP', datetime.datetime(2014, 1, 8, 13, 44, 45), datetime.datetime(2014, 1, 8, 13, 44, 45))\n",
      "(160, 'Louise Doran', 'LDORAN', '011.44.1345.629268', datetime.datetime(1999, 12, 15, 0, 0), 7500.0, 146, 0.3, None, 80, 'SA_REP', datetime.datetime(2014, 1, 8, 13, 44, 45), datetime.datetime(2014, 1, 8, 13, 44, 45))\n",
      "(161, 'Sarath Sewall', 'SSEWALL', '011.44.1345.529268', datetime.datetime(2000, 11, 3, 0, 0), 7000.0, 146, 0.25, None, 80, 'SA_REP', datetime.datetime(2014, 1, 8, 13, 44, 45), datetime.datetime(2014, 1, 8, 13, 44, 45))\n",
      "(162, 'Clara Vishney', 'CVISHNEY', '011.44.1346.129268', datetime.datetime(1999, 11, 11, 0, 0), 10500.0, 147, 0.25, None, 80, 'SA_REP', datetime.datetime(2014, 1, 8, 13, 44, 45), datetime.datetime(2014, 1, 8, 13, 44, 45))\n",
      "(163, 'Danielle Greene', 'DGREENE', '011.44.1346.229268', datetime.datetime(2000, 3, 19, 0, 0), 9500.0, 147, 0.15, None, 80, 'SA_REP', datetime.datetime(2014, 1, 8, 13, 44, 45), datetime.datetime(2014, 1, 8, 13, 44, 45))\n",
      "(164, 'Mattea Marvins', 'MMARVINS', '011.44.1346.329268', datetime.datetime(2001, 5, 24, 0, 0), 7200.0, 147, 0.1, None, 80, 'SA_REP', datetime.datetime(2014, 1, 8, 13, 44, 45), datetime.datetime(2014, 1, 8, 13, 44, 45))\n",
      "(165, 'David Lee', 'DLEE', '011.44.1346.529268', datetime.datetime(2001, 2, 23, 0, 0), 6800.0, 147, 0.1, None, 80, 'SA_REP', datetime.datetime(2014, 1, 8, 13, 44, 45), datetime.datetime(2014, 1, 8, 13, 44, 45))\n",
      "(166, 'Sundar Ande', 'SANDE', '011.44.1346.629268', datetime.datetime(2001, 3, 24, 0, 0), 6400.0, 147, 0.1, None, 80, 'SA_REP', datetime.datetime(2014, 1, 8, 13, 44, 45), datetime.datetime(2014, 1, 8, 13, 44, 45))\n",
      "(167, 'Amit Banda', 'ABANDA', '011.44.1346.729268', datetime.datetime(2001, 4, 21, 0, 0), 6200.0, 147, 0.1, None, 80, 'SA_REP', datetime.datetime(2014, 1, 8, 13, 44, 45), datetime.datetime(2014, 1, 8, 13, 44, 45))\n",
      "(168, 'Lisa Ozer', 'LOZER', '011.44.1343.929268', datetime.datetime(1999, 7, 11, 0, 0), 11500.0, 148, 0.25, None, 80, 'SA_REP', datetime.datetime(2014, 1, 8, 13, 44, 45), datetime.datetime(2014, 1, 8, 13, 44, 45))\n",
      "(169, 'Harrison Bloom', 'HBLOOM', '011.44.1343.829268', datetime.datetime(2000, 7, 23, 0, 0), 10000.0, 148, 0.2, None, 80, 'SA_REP', datetime.datetime(2014, 1, 8, 13, 44, 45), datetime.datetime(2014, 1, 8, 13, 44, 45))\n",
      "(170, 'Tayler Fox', 'TFOX', '011.44.1343.729268', datetime.datetime(2000, 1, 24, 0, 0), 9600.0, 148, 0.2, None, 80, 'SA_REP', datetime.datetime(2014, 1, 8, 13, 44, 45), datetime.datetime(2014, 1, 8, 13, 44, 45))\n",
      "(171, 'William Smith', 'WSMITH', '011.44.1343.629268', datetime.datetime(2000, 2, 23, 0, 0), 7400.0, 148, 0.15, None, 80, 'SA_REP', datetime.datetime(2014, 1, 8, 13, 44, 45), datetime.datetime(2014, 1, 8, 13, 44, 45))\n",
      "(172, 'Elizabeth Bates', 'EBATES', '011.44.1343.529268', datetime.datetime(2000, 6, 24, 0, 0), 7300.0, 148, 0.15, None, 80, 'SA_REP', datetime.datetime(2014, 1, 8, 13, 44, 45), datetime.datetime(2014, 1, 8, 13, 44, 45))\n",
      "(173, 'Sundita Kumar', 'SKUMAR', '011.44.1343.329268', datetime.datetime(2001, 6, 21, 0, 0), 6100.0, 148, 0.1, None, 80, 'SA_REP', datetime.datetime(2014, 1, 8, 13, 44, 45), datetime.datetime(2014, 1, 8, 13, 44, 45))\n",
      "(174, 'Ellen Abel', 'EABEL', '011.44.1644.429267', datetime.datetime(1998, 5, 11, 0, 0), 11000.0, 149, 0.3, None, 80, 'SA_REP', datetime.datetime(2014, 1, 8, 13, 44, 45), datetime.datetime(2014, 1, 8, 13, 44, 45))\n",
      "(175, 'Alyssa Hutton', 'AHUTTON', '011.44.1644.429266', datetime.datetime(1999, 9, 19, 0, 0), 8800.0, 149, 0.25, None, 80, 'SA_REP', datetime.datetime(2014, 1, 8, 13, 44, 45), datetime.datetime(2014, 1, 8, 13, 44, 45))\n",
      "(176, 'Jonathon Taylor', 'JTAYLOR', '011.44.1644.429265', datetime.datetime(2000, 5, 24, 0, 0), 8600.0, 149, 0.2, None, 80, 'SA_REP', datetime.datetime(2014, 1, 8, 13, 44, 45), datetime.datetime(2014, 1, 8, 13, 44, 45))\n",
      "(177, 'Jack Livingston', 'JLIVINGS', '011.44.1644.429264', datetime.datetime(2000, 4, 23, 0, 0), 8400.0, 149, 0.2, None, 80, 'SA_REP', datetime.datetime(2014, 1, 8, 13, 44, 45), datetime.datetime(2014, 1, 8, 13, 44, 45))\n",
      "(178, 'Kimberely Grant', 'KGRANT', '011.44.1644.429263', datetime.datetime(2007, 5, 24, 0, 0), 7000.0, 149, 0.15, None, None, 'SA_REP', datetime.datetime(2014, 1, 8, 13, 44, 45), datetime.datetime(2014, 1, 8, 13, 44, 45))\n",
      "(179, 'Charles Johnson', 'CJOHNSON', '011.44.1644.429262', datetime.datetime(2001, 1, 4, 0, 0), 6200.0, 149, 0.1, None, 80, 'SA_REP', datetime.datetime(2014, 1, 8, 13, 44, 45), datetime.datetime(2014, 1, 8, 13, 44, 45))\n",
      "(180, 'Winston Taylor', 'WTAYLOR', '650.507.9876', datetime.datetime(2006, 1, 24, 0, 0), 3200.0, 120, None, None, 50, 'SH_CLERK', datetime.datetime(2014, 1, 8, 13, 44, 45), datetime.datetime(2014, 1, 8, 13, 44, 45))\n",
      "(181, 'Jean Fleaur', 'JFLEAUR', '650.507.9877', datetime.datetime(2006, 2, 23, 0, 0), 3100.0, 120, None, None, 50, 'SH_CLERK', datetime.datetime(2014, 1, 8, 13, 44, 45), datetime.datetime(2014, 1, 8, 13, 44, 45))\n",
      "(182, 'Martha Sullivan', 'MSULLIVA', '650.507.9878', datetime.datetime(2007, 6, 21, 0, 0), 2500.0, 120, None, None, 50, 'SH_CLERK', datetime.datetime(2014, 1, 8, 13, 44, 45), datetime.datetime(2014, 1, 8, 13, 44, 45))\n",
      "(183, 'Girard Geoni', 'GGEONI', '650.507.9879', datetime.datetime(2008, 2, 3, 0, 0), 2800.0, 120, None, None, 50, 'SH_CLERK', datetime.datetime(2014, 1, 8, 13, 44, 45), datetime.datetime(2014, 1, 8, 13, 44, 45))\n",
      "(184, 'Nandita Sarchand', 'NSARCHAN', '650.509.1876', datetime.datetime(2004, 1, 27, 0, 0), 4200.0, 121, None, None, 50, 'SH_CLERK', datetime.datetime(2014, 1, 8, 13, 44, 45), datetime.datetime(2014, 1, 8, 13, 44, 45))\n",
      "(185, 'Alexis Bull', 'ABULL', '650.509.2876', datetime.datetime(2005, 2, 20, 0, 0), 4100.0, 121, None, None, 50, 'SH_CLERK', datetime.datetime(2014, 1, 8, 13, 44, 45), datetime.datetime(2014, 1, 8, 13, 44, 45))\n",
      "(186, 'Julia Dellinger', 'JDELLING', '650.509.3876', datetime.datetime(2006, 6, 24, 0, 0), 3400.0, 121, None, None, 50, 'SH_CLERK', datetime.datetime(2014, 1, 8, 13, 44, 45), datetime.datetime(2014, 1, 8, 13, 44, 45))\n",
      "(187, 'Anthony Cabrio', 'ACABRIO', '650.509.4876', datetime.datetime(2007, 2, 7, 0, 0), 3000.0, 121, None, None, 50, 'SH_CLERK', datetime.datetime(2014, 1, 8, 13, 44, 45), datetime.datetime(2014, 1, 8, 13, 44, 45))\n",
      "(188, 'Kelly Chung', 'KCHUNG', '650.505.1876', datetime.datetime(2005, 6, 14, 0, 0), 3800.0, 122, None, None, 50, 'SH_CLERK', datetime.datetime(2014, 1, 8, 13, 44, 45), datetime.datetime(2014, 1, 8, 13, 44, 45))\n",
      "(189, 'Jennifer Dilly', 'JDILLY', '650.505.2876', datetime.datetime(2005, 8, 13, 0, 0), 3600.0, 122, None, None, 50, 'SH_CLERK', datetime.datetime(2014, 1, 8, 13, 44, 45), datetime.datetime(2014, 1, 8, 13, 44, 45))\n",
      "(190, 'Timothy Gates', 'TGATES', '650.505.3876', datetime.datetime(2006, 7, 11, 0, 0), 2900.0, 122, None, None, 50, 'SH_CLERK', datetime.datetime(2014, 1, 8, 13, 44, 45), datetime.datetime(2014, 1, 8, 13, 44, 45))\n",
      "(191, 'Randall Perkins', 'RPERKINS', '650.505.4876', datetime.datetime(2007, 12, 19, 0, 0), 2500.0, 122, None, None, 50, 'SH_CLERK', datetime.datetime(2014, 1, 8, 13, 44, 45), datetime.datetime(2014, 1, 8, 13, 44, 45))\n",
      "(192, 'Sarah Bell', 'SBELL', '650.501.1876', datetime.datetime(2004, 2, 4, 0, 0), 4000.0, 123, None, None, 50, 'SH_CLERK', datetime.datetime(2014, 1, 8, 13, 44, 45), datetime.datetime(2014, 1, 8, 13, 44, 45))\n",
      "(193, 'Britney Everett', 'BEVERETT', '650.501.2876', datetime.datetime(2005, 3, 3, 0, 0), 3900.0, 123, None, None, 50, 'SH_CLERK', datetime.datetime(2014, 1, 8, 13, 44, 45), datetime.datetime(2014, 1, 8, 13, 44, 45))\n",
      "(194, 'Samuel McCain', 'SMCCAIN', '650.501.3876', datetime.datetime(2006, 7, 1, 0, 0), 3200.0, 123, None, None, 50, 'SH_CLERK', datetime.datetime(2014, 1, 8, 13, 44, 45), datetime.datetime(2014, 1, 8, 13, 44, 45))\n",
      "(195, 'Vance Jones', 'VJONES', '650.501.4876', datetime.datetime(2007, 3, 17, 0, 0), 2800.0, 123, None, None, 50, 'SH_CLERK', datetime.datetime(2014, 1, 8, 13, 44, 45), datetime.datetime(2014, 1, 8, 13, 44, 45))\n",
      "(196, 'Alana Walsh', 'AWALSH', '650.507.9811', datetime.datetime(2006, 4, 24, 0, 0), 3100.0, 124, None, None, 50, 'SH_CLERK', datetime.datetime(2014, 1, 8, 13, 44, 45), datetime.datetime(2014, 1, 8, 13, 44, 45))\n",
      "(197, 'Kevin Feeney', 'KFEENEY', '650.507.9822', datetime.datetime(2006, 5, 23, 0, 0), 3000.0, 124, None, None, 50, 'SH_CLERK', datetime.datetime(2014, 1, 8, 13, 44, 45), datetime.datetime(2014, 1, 8, 13, 44, 45))\n",
      "--------------------------------------------------\n"
     ]
    }
   ],
   "source": [
    "# emp테이블의 내용 확인\n",
    "cursor.execute(\"select * from employees\") # 데이터베이스 명령 실행( cursor가 임시로 보관)\n",
    "out_data = cursor.fetchall() # 커서의 내용을 out_data에 저장 \n",
    "for record in out_data: # out_data의 내용을 출력\n",
    "    print(record)\n",
    "print('-'*50)"
   ]
  },
  {
   "cell_type": "code",
   "execution_count": null,
   "metadata": {},
   "outputs": [],
   "source": [
    "con.close() # 데이터베이스 연결 해제"
   ]
  },
  {
   "cell_type": "code",
   "execution_count": null,
   "metadata": {},
   "outputs": [],
   "source": []
  },
  {
   "cell_type": "code",
   "execution_count": null,
   "metadata": {},
   "outputs": [],
   "source": []
  },
  {
   "cell_type": "code",
   "execution_count": null,
   "metadata": {},
   "outputs": [],
   "source": []
  },
  {
   "cell_type": "code",
   "execution_count": null,
   "metadata": {},
   "outputs": [],
   "source": []
  },
  {
   "cell_type": "code",
   "execution_count": null,
   "metadata": {},
   "outputs": [],
   "source": []
  }
 ],
 "metadata": {
  "kernelspec": {
   "display_name": "base",
   "language": "python",
   "name": "python3"
  },
  "language_info": {
   "codemirror_mode": {
    "name": "ipython",
    "version": 3
   },
   "file_extension": ".py",
   "mimetype": "text/x-python",
   "name": "python",
   "nbconvert_exporter": "python",
   "pygments_lexer": "ipython3",
   "version": "3.11.7"
  }
 },
 "nbformat": 4,
 "nbformat_minor": 2
}
