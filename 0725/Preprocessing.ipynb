{
 "cells": [
  {
   "cell_type": "code",
   "execution_count": 6,
   "metadata": {},
   "outputs": [],
   "source": [
    "from konlpy.tag import Komoran\n",
    "import pickle\n",
    "import jpype\n",
    "\n",
    "class Preprocess:\n",
    "    def __init__(self,userdic=None):  #생성자\n",
    "        #형태소 분석기 초기화\n",
    "        self.komoran=Komoran(userdic=userdic)\n",
    "\n",
    "        # 제외할 품사\n",
    "        # 참조 : https://docs.komoran.kr/firststep/postypes.html\n",
    "        # 관계언 제거, 기호 제거\n",
    "        # 어미 제거\n",
    "        # 접미사 제거\n",
    "        self.exclusion_tags = [\n",
    "            'JKS', 'JKC', 'JKG', 'JKO', 'JKB', 'JKV', 'JKQ',\n",
    "            'JX', 'JC',\n",
    "            'SF', 'SP', 'SS', 'SE', 'SO',\n",
    "            'EP', 'EF', 'EC', 'ETN', 'ETM',\n",
    "            'XSN', 'XSV', 'XSA'\n",
    "        ]\n",
    "    \n",
    "    #형태소 분석기 POS 태거\n",
    "    def pos(self,sentence):\n",
    "        return self.komoran.pos(sentence)\n",
    "    #불용어 제거 후 필요한 품사 정보만 가져오기\n",
    "    def get_keywords(self,pos,without_tag=False):\n",
    "        f=lambda x: x in self.exclusion_tags\n",
    "        word_list=[]\n",
    "        for p in pos:\n",
    "            if f(p[1]) is False:\n",
    "                word_list.append(p if without_tag is False else p[0])\n",
    "        return word_list\n",
    "    \n"
   ]
  },
  {
   "cell_type": "code",
   "execution_count": 7,
   "metadata": {},
   "outputs": [
    {
     "name": "stdout",
     "output_type": "stream",
     "text": [
      "['c:\\\\work\\\\w\\\\medical1\\\\0725', 'c:\\\\Users\\\\KOREAVC\\\\anaconda3\\\\python311.zip', 'c:\\\\Users\\\\KOREAVC\\\\anaconda3\\\\DLLs', 'c:\\\\Users\\\\KOREAVC\\\\anaconda3\\\\Lib', 'c:\\\\Users\\\\KOREAVC\\\\anaconda3', '', 'c:\\\\Users\\\\KOREAVC\\\\anaconda3\\\\Lib\\\\site-packages', 'c:\\\\Users\\\\KOREAVC\\\\anaconda3\\\\Lib\\\\site-packages\\\\win32', 'c:\\\\Users\\\\KOREAVC\\\\anaconda3\\\\Lib\\\\site-packages\\\\win32\\\\lib', 'c:\\\\Users\\\\KOREAVC\\\\anaconda3\\\\Lib\\\\site-packages\\\\Pythonwin']\n"
     ]
    }
   ],
   "source": [
    "import os\n",
    "import sys\n",
    "print(sys.path)"
   ]
  },
  {
   "cell_type": "code",
   "execution_count": 9,
   "metadata": {},
   "outputs": [
    {
     "name": "stdout",
     "output_type": "stream",
     "text": [
      "[('내일', 'NNG'), ('오전', 'NNP'), ('10', 'SN'), ('시', 'NNB'), ('탕수육', 'NNP'), ('주문', 'NNG'), ('싶', 'VX')]\n",
      "['내일', '오전', '10', '시', '탕수육', '주문', '싶']\n"
     ]
    }
   ],
   "source": [
    "\n",
    "sent=\"내일 오전 10시에 탕수육 주문하고 싶어\"\n",
    "\n",
    "#전처리 객체 생성\n",
    "p=Preprocess(userdic='../utils/user_dic.tsv')\n",
    "\n",
    "#형태소 분석기 실행\n",
    "pos = p.pos(sent)\n",
    "\n",
    "#품사 태그와 같이 키워드 출력\n",
    "ret=p.get_keywords(pos,without_tag=False)\n",
    "print(ret)\n",
    "\n",
    "#품사 태그 없이 키워드 출력\n",
    "ret=p.get_keywords(pos, without_tag=True)\n",
    "print(ret)"
   ]
  },
  {
   "cell_type": "code",
   "execution_count": null,
   "metadata": {},
   "outputs": [],
   "source": []
  },
  {
   "cell_type": "code",
   "execution_count": null,
   "metadata": {},
   "outputs": [],
   "source": []
  },
  {
   "cell_type": "code",
   "execution_count": null,
   "metadata": {},
   "outputs": [],
   "source": []
  },
  {
   "cell_type": "code",
   "execution_count": null,
   "metadata": {},
   "outputs": [],
   "source": []
  }
 ],
 "metadata": {
  "kernelspec": {
   "display_name": "base",
   "language": "python",
   "name": "python3"
  },
  "language_info": {
   "codemirror_mode": {
    "name": "ipython",
    "version": 3
   },
   "file_extension": ".py",
   "mimetype": "text/x-python",
   "name": "python",
   "nbconvert_exporter": "python",
   "pygments_lexer": "ipython3",
   "version": "3.11.7"
  }
 },
 "nbformat": 4,
 "nbformat_minor": 2
}
