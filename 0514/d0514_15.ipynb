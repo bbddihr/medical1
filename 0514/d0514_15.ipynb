{
 "cells": [
  {
   "cell_type": "code",
   "execution_count": 33,
   "metadata": {},
   "outputs": [],
   "source": [
    "import matplotlib.pyplot as plt\n",
    "import matplotlib\n",
    "import numpy as np\n",
    "import pandas as pd\n",
    "matplotlib.rcParams['font.family']='Malgun Gothic'  #한글설정\n",
    "matplotlib.rcParams['font.size']= 10  #글자크기\n",
    "matplotlib.rcParams['axes.unicode_minus'] = False"
   ]
  },
  {
   "cell_type": "code",
   "execution_count": 34,
   "metadata": {},
   "outputs": [
    {
     "data": {
      "text/html": [
       "<div>\n",
       "<style scoped>\n",
       "    .dataframe tbody tr th:only-of-type {\n",
       "        vertical-align: middle;\n",
       "    }\n",
       "\n",
       "    .dataframe tbody tr th {\n",
       "        vertical-align: top;\n",
       "    }\n",
       "\n",
       "    .dataframe thead th {\n",
       "        text-align: right;\n",
       "    }\n",
       "</style>\n",
       "<table border=\"1\" class=\"dataframe\">\n",
       "  <thead>\n",
       "    <tr style=\"text-align: right;\">\n",
       "      <th></th>\n",
       "      <th>0~4세</th>\n",
       "      <th>5~9세</th>\n",
       "      <th>10~14세</th>\n",
       "      <th>15~19세</th>\n",
       "      <th>20~24세</th>\n",
       "      <th>25~29세</th>\n",
       "      <th>30~34세</th>\n",
       "      <th>35~39세</th>\n",
       "      <th>40~44세</th>\n",
       "      <th>45~49세</th>\n",
       "      <th>...</th>\n",
       "      <th>55~59세</th>\n",
       "      <th>60~64세</th>\n",
       "      <th>65~69세</th>\n",
       "      <th>70~74세</th>\n",
       "      <th>75~79세</th>\n",
       "      <th>80~84세</th>\n",
       "      <th>85~89세</th>\n",
       "      <th>90~94세</th>\n",
       "      <th>95~99세</th>\n",
       "      <th>100세 이상</th>\n",
       "    </tr>\n",
       "    <tr>\n",
       "      <th>행정기관</th>\n",
       "      <th></th>\n",
       "      <th></th>\n",
       "      <th></th>\n",
       "      <th></th>\n",
       "      <th></th>\n",
       "      <th></th>\n",
       "      <th></th>\n",
       "      <th></th>\n",
       "      <th></th>\n",
       "      <th></th>\n",
       "      <th></th>\n",
       "      <th></th>\n",
       "      <th></th>\n",
       "      <th></th>\n",
       "      <th></th>\n",
       "      <th></th>\n",
       "      <th></th>\n",
       "      <th></th>\n",
       "      <th></th>\n",
       "      <th></th>\n",
       "      <th></th>\n",
       "    </tr>\n",
       "  </thead>\n",
       "  <tbody>\n",
       "    <tr>\n",
       "      <th>전국</th>\n",
       "      <td>726460</td>\n",
       "      <td>1072653</td>\n",
       "      <td>1211077</td>\n",
       "      <td>1211949</td>\n",
       "      <td>1524378</td>\n",
       "      <td>1823908</td>\n",
       "      <td>1737714</td>\n",
       "      <td>1684266</td>\n",
       "      <td>2055130</td>\n",
       "      <td>2039606</td>\n",
       "      <td>...</td>\n",
       "      <td>2052227</td>\n",
       "      <td>2097254</td>\n",
       "      <td>1554976</td>\n",
       "      <td>1038388</td>\n",
       "      <td>713448</td>\n",
       "      <td>507915</td>\n",
       "      <td>212726</td>\n",
       "      <td>54180</td>\n",
       "      <td>8880</td>\n",
       "      <td>1307</td>\n",
       "    </tr>\n",
       "    <tr>\n",
       "      <th>서울특별시</th>\n",
       "      <td>116614</td>\n",
       "      <td>161429</td>\n",
       "      <td>185689</td>\n",
       "      <td>197425</td>\n",
       "      <td>271237</td>\n",
       "      <td>390716</td>\n",
       "      <td>379852</td>\n",
       "      <td>332153</td>\n",
       "      <td>363795</td>\n",
       "      <td>352011</td>\n",
       "      <td>...</td>\n",
       "      <td>338380</td>\n",
       "      <td>343434</td>\n",
       "      <td>271757</td>\n",
       "      <td>188172</td>\n",
       "      <td>136287</td>\n",
       "      <td>93848</td>\n",
       "      <td>36511</td>\n",
       "      <td>9411</td>\n",
       "      <td>1703</td>\n",
       "      <td>276</td>\n",
       "    </tr>\n",
       "    <tr>\n",
       "      <th>부산광역시</th>\n",
       "      <td>41333</td>\n",
       "      <td>63912</td>\n",
       "      <td>68919</td>\n",
       "      <td>67836</td>\n",
       "      <td>93245</td>\n",
       "      <td>109745</td>\n",
       "      <td>103536</td>\n",
       "      <td>99530</td>\n",
       "      <td>127544</td>\n",
       "      <td>121660</td>\n",
       "      <td>...</td>\n",
       "      <td>126702</td>\n",
       "      <td>143246</td>\n",
       "      <td>119500</td>\n",
       "      <td>83807</td>\n",
       "      <td>55948</td>\n",
       "      <td>36851</td>\n",
       "      <td>13453</td>\n",
       "      <td>3103</td>\n",
       "      <td>420</td>\n",
       "      <td>72</td>\n",
       "    </tr>\n",
       "    <tr>\n",
       "      <th>대구광역시</th>\n",
       "      <td>31269</td>\n",
       "      <td>49000</td>\n",
       "      <td>55029</td>\n",
       "      <td>57661</td>\n",
       "      <td>74228</td>\n",
       "      <td>81001</td>\n",
       "      <td>76198</td>\n",
       "      <td>71455</td>\n",
       "      <td>87860</td>\n",
       "      <td>91327</td>\n",
       "      <td>...</td>\n",
       "      <td>96673</td>\n",
       "      <td>96632</td>\n",
       "      <td>71324</td>\n",
       "      <td>49675</td>\n",
       "      <td>31508</td>\n",
       "      <td>23021</td>\n",
       "      <td>9435</td>\n",
       "      <td>2197</td>\n",
       "      <td>299</td>\n",
       "      <td>25</td>\n",
       "    </tr>\n",
       "    <tr>\n",
       "      <th>인천광역시</th>\n",
       "      <td>43664</td>\n",
       "      <td>63028</td>\n",
       "      <td>70593</td>\n",
       "      <td>69580</td>\n",
       "      <td>86548</td>\n",
       "      <td>108831</td>\n",
       "      <td>107658</td>\n",
       "      <td>102829</td>\n",
       "      <td>126090</td>\n",
       "      <td>121064</td>\n",
       "      <td>...</td>\n",
       "      <td>121717</td>\n",
       "      <td>124470</td>\n",
       "      <td>84563</td>\n",
       "      <td>52236</td>\n",
       "      <td>35223</td>\n",
       "      <td>22843</td>\n",
       "      <td>9444</td>\n",
       "      <td>2410</td>\n",
       "      <td>482</td>\n",
       "      <td>82</td>\n",
       "    </tr>\n",
       "  </tbody>\n",
       "</table>\n",
       "<p>5 rows × 21 columns</p>\n",
       "</div>"
      ],
      "text/plain": [
       "           0~4세     5~9세   10~14세   15~19세   20~24세   25~29세   30~34세  \\\n",
       "행정기관                                                                    \n",
       "전국       726460  1072653  1211077  1211949  1524378  1823908  1737714   \n",
       "서울특별시    116614   161429   185689   197425   271237   390716   379852   \n",
       "부산광역시     41333    63912    68919    67836    93245   109745   103536   \n",
       "대구광역시     31269    49000    55029    57661    74228    81001    76198   \n",
       "인천광역시     43664    63028    70593    69580    86548   108831   107658   \n",
       "\n",
       "          35~39세   40~44세   45~49세  ...   55~59세   60~64세   65~69세   70~74세  \\\n",
       "행정기관                                ...                                       \n",
       "전국       1684266  2055130  2039606  ...  2052227  2097254  1554976  1038388   \n",
       "서울특별시     332153   363795   352011  ...   338380   343434   271757   188172   \n",
       "부산광역시      99530   127544   121660  ...   126702   143246   119500    83807   \n",
       "대구광역시      71455    87860    91327  ...    96673    96632    71324    49675   \n",
       "인천광역시     102829   126090   121064  ...   121717   124470    84563    52236   \n",
       "\n",
       "         75~79세  80~84세  85~89세  90~94세  95~99세  100세 이상  \n",
       "행정기관                                                      \n",
       "전국       713448  507915  212726   54180    8880     1307  \n",
       "서울특별시    136287   93848   36511    9411    1703      276  \n",
       "부산광역시     55948   36851   13453    3103     420       72  \n",
       "대구광역시     31508   23021    9435    2197     299       25  \n",
       "인천광역시     35223   22843    9444    2410     482       82  \n",
       "\n",
       "[5 rows x 21 columns]"
      ]
     },
     "execution_count": 34,
     "metadata": {},
     "output_type": "execute_result"
    }
   ],
   "source": [
    "import pandas as pd\n",
    "df=pd.read_excel('../z20_data/20230104_연령별인구현황2.xlsx',skiprows=3, index_col='행정기관',thousands=',',usecols='B,E:Y')\n",
    "df.head()\n"
   ]
  },
  {
   "cell_type": "code",
   "execution_count": 35,
   "metadata": {},
   "outputs": [
    {
     "data": {
      "text/plain": [
       "array(['0~4세', '5~9세', '10~14세', '15~19세', '20~24세', '25~29세', '30~34세',\n",
       "       '35~39세', '40~44세', '45~49세', '50~54세', '55~59세', '60~64세',\n",
       "       '65~69세', '70~74세', '75~79세', '80~84세', '85~89세', '90~94세',\n",
       "       '95~99세', '100세 이상'], dtype=object)"
      ]
     },
     "execution_count": 35,
     "metadata": {},
     "output_type": "execute_result"
    }
   ],
   "source": [
    "df.columns.values"
   ]
  },
  {
   "cell_type": "code",
   "execution_count": 36,
   "metadata": {},
   "outputs": [
    {
     "data": {
      "text/plain": [
       "'0~4세'"
      ]
     },
     "execution_count": 36,
     "metadata": {},
     "output_type": "execute_result"
    }
   ],
   "source": [
    "df.columns[0]"
   ]
  },
  {
   "cell_type": "code",
   "execution_count": 37,
   "metadata": {},
   "outputs": [
    {
     "name": "stdout",
     "output_type": "stream",
     "text": [
      "<class 'pandas.core.frame.DataFrame'>\n",
      "Index: 18 entries, 전국   to 제주특별자치도  \n",
      "Data columns (total 21 columns):\n",
      " #   Column   Non-Null Count  Dtype\n",
      "---  ------   --------------  -----\n",
      " 0   0~4세     18 non-null     int64\n",
      " 1   5~9세     18 non-null     int64\n",
      " 2   10~14세   18 non-null     int64\n",
      " 3   15~19세   18 non-null     int64\n",
      " 4   20~24세   18 non-null     int64\n",
      " 5   25~29세   18 non-null     int64\n",
      " 6   30~34세   18 non-null     int64\n",
      " 7   35~39세   18 non-null     int64\n",
      " 8   40~44세   18 non-null     int64\n",
      " 9   45~49세   18 non-null     int64\n",
      " 10  50~54세   18 non-null     int64\n",
      " 11  55~59세   18 non-null     int64\n",
      " 12  60~64세   18 non-null     int64\n",
      " 13  65~69세   18 non-null     int64\n",
      " 14  70~74세   18 non-null     int64\n",
      " 15  75~79세   18 non-null     int64\n",
      " 16  80~84세   18 non-null     int64\n",
      " 17  85~89세   18 non-null     int64\n",
      " 18  90~94세   18 non-null     int64\n",
      " 19  95~99세   18 non-null     int64\n",
      " 20  100세 이상  18 non-null     int64\n",
      "dtypes: int64(21)\n",
      "memory usage: 3.1+ KB\n"
     ]
    }
   ],
   "source": [
    "df.info()"
   ]
  },
  {
   "cell_type": "code",
   "execution_count": 39,
   "metadata": {},
   "outputs": [],
   "source": [
    "# df['0~4세']+df['5~9세']+df['10~14세']\n",
    "# df.iloc[0,0]+df.iloc[0,1]+df.iloc[0,2]\n",
    "# :3\n",
    "# 3:13\n",
    "# 13:\n",
    "\n",
    "x=['2023년1월']\n",
    "y1=df.iloc[0,:3].sum()\n",
    "y2=df.iloc[0,3:13].sum()\n",
    "y3=df.iloc[0,13].sum()"
   ]
  },
  {
   "cell_type": "code",
   "execution_count": 41,
   "metadata": {},
   "outputs": [
    {
     "data": {
      "text/plain": [
       "726460"
      ]
     },
     "execution_count": 41,
     "metadata": {},
     "output_type": "execute_result"
    }
   ],
   "source": [
    "df.iloc[0,0]"
   ]
  },
  {
   "cell_type": "code",
   "execution_count": 43,
   "metadata": {},
   "outputs": [],
   "source": [
    "# for i in range(df.shape[1]):\n",
    "#     df[df.columns[i]]=df[df.columns[i]].str.replace(\",\",\"\").astype(int)"
   ]
  },
  {
   "cell_type": "code",
   "execution_count": 45,
   "metadata": {},
   "outputs": [
    {
     "ename": "KeyError",
     "evalue": "'행정 기관'",
     "output_type": "error",
     "traceback": [
      "\u001b[1;31m---------------------------------------------------------------------------\u001b[0m",
      "\u001b[1;31mKeyError\u001b[0m                                  Traceback (most recent call last)",
      "File \u001b[1;32mc:\\Python312\\Lib\\site-packages\\pandas\\core\\indexes\\base.py:3805\u001b[0m, in \u001b[0;36mIndex.get_loc\u001b[1;34m(self, key)\u001b[0m\n\u001b[0;32m   3804\u001b[0m \u001b[38;5;28;01mtry\u001b[39;00m:\n\u001b[1;32m-> 3805\u001b[0m     \u001b[38;5;28;01mreturn\u001b[39;00m \u001b[38;5;28;43mself\u001b[39;49m\u001b[38;5;241;43m.\u001b[39;49m\u001b[43m_engine\u001b[49m\u001b[38;5;241;43m.\u001b[39;49m\u001b[43mget_loc\u001b[49m\u001b[43m(\u001b[49m\u001b[43mcasted_key\u001b[49m\u001b[43m)\u001b[49m\n\u001b[0;32m   3806\u001b[0m \u001b[38;5;28;01mexcept\u001b[39;00m \u001b[38;5;167;01mKeyError\u001b[39;00m \u001b[38;5;28;01mas\u001b[39;00m err:\n",
      "File \u001b[1;32mindex.pyx:167\u001b[0m, in \u001b[0;36mpandas._libs.index.IndexEngine.get_loc\u001b[1;34m()\u001b[0m\n",
      "File \u001b[1;32mindex.pyx:196\u001b[0m, in \u001b[0;36mpandas._libs.index.IndexEngine.get_loc\u001b[1;34m()\u001b[0m\n",
      "File \u001b[1;32mpandas\\\\_libs\\\\hashtable_class_helper.pxi:7081\u001b[0m, in \u001b[0;36mpandas._libs.hashtable.PyObjectHashTable.get_item\u001b[1;34m()\u001b[0m\n",
      "File \u001b[1;32mpandas\\\\_libs\\\\hashtable_class_helper.pxi:7089\u001b[0m, in \u001b[0;36mpandas._libs.hashtable.PyObjectHashTable.get_item\u001b[1;34m()\u001b[0m\n",
      "\u001b[1;31mKeyError\u001b[0m: '행정 기관'",
      "\nThe above exception was the direct cause of the following exception:\n",
      "\u001b[1;31mKeyError\u001b[0m                                  Traceback (most recent call last)",
      "Cell \u001b[1;32mIn[45], line 1\u001b[0m\n\u001b[1;32m----> 1\u001b[0m x\u001b[38;5;241m=\u001b[39m\u001b[43mdf\u001b[49m\u001b[43m[\u001b[49m\u001b[38;5;124;43m'\u001b[39;49m\u001b[38;5;124;43m행정 기관\u001b[39;49m\u001b[38;5;124;43m'\u001b[39;49m\u001b[43m]\u001b[49m\n\u001b[0;32m      2\u001b[0m y\u001b[38;5;241m=\u001b[39mdf[\u001b[38;5;124m'\u001b[39m\u001b[38;5;124m남 인구수\u001b[39m\u001b[38;5;124m'\u001b[39m]\n\u001b[0;32m      3\u001b[0m plt\u001b[38;5;241m.\u001b[39mbar(x,y,label\u001b[38;5;241m=\u001b[39m\u001b[38;5;124m'\u001b[39m\u001b[38;5;124m전국\u001b[39m\u001b[38;5;124m'\u001b[39m)\n",
      "File \u001b[1;32mc:\\Python312\\Lib\\site-packages\\pandas\\core\\frame.py:4102\u001b[0m, in \u001b[0;36mDataFrame.__getitem__\u001b[1;34m(self, key)\u001b[0m\n\u001b[0;32m   4100\u001b[0m \u001b[38;5;28;01mif\u001b[39;00m \u001b[38;5;28mself\u001b[39m\u001b[38;5;241m.\u001b[39mcolumns\u001b[38;5;241m.\u001b[39mnlevels \u001b[38;5;241m>\u001b[39m \u001b[38;5;241m1\u001b[39m:\n\u001b[0;32m   4101\u001b[0m     \u001b[38;5;28;01mreturn\u001b[39;00m \u001b[38;5;28mself\u001b[39m\u001b[38;5;241m.\u001b[39m_getitem_multilevel(key)\n\u001b[1;32m-> 4102\u001b[0m indexer \u001b[38;5;241m=\u001b[39m \u001b[38;5;28;43mself\u001b[39;49m\u001b[38;5;241;43m.\u001b[39;49m\u001b[43mcolumns\u001b[49m\u001b[38;5;241;43m.\u001b[39;49m\u001b[43mget_loc\u001b[49m\u001b[43m(\u001b[49m\u001b[43mkey\u001b[49m\u001b[43m)\u001b[49m\n\u001b[0;32m   4103\u001b[0m \u001b[38;5;28;01mif\u001b[39;00m is_integer(indexer):\n\u001b[0;32m   4104\u001b[0m     indexer \u001b[38;5;241m=\u001b[39m [indexer]\n",
      "File \u001b[1;32mc:\\Python312\\Lib\\site-packages\\pandas\\core\\indexes\\base.py:3812\u001b[0m, in \u001b[0;36mIndex.get_loc\u001b[1;34m(self, key)\u001b[0m\n\u001b[0;32m   3807\u001b[0m     \u001b[38;5;28;01mif\u001b[39;00m \u001b[38;5;28misinstance\u001b[39m(casted_key, \u001b[38;5;28mslice\u001b[39m) \u001b[38;5;129;01mor\u001b[39;00m (\n\u001b[0;32m   3808\u001b[0m         \u001b[38;5;28misinstance\u001b[39m(casted_key, abc\u001b[38;5;241m.\u001b[39mIterable)\n\u001b[0;32m   3809\u001b[0m         \u001b[38;5;129;01mand\u001b[39;00m \u001b[38;5;28many\u001b[39m(\u001b[38;5;28misinstance\u001b[39m(x, \u001b[38;5;28mslice\u001b[39m) \u001b[38;5;28;01mfor\u001b[39;00m x \u001b[38;5;129;01min\u001b[39;00m casted_key)\n\u001b[0;32m   3810\u001b[0m     ):\n\u001b[0;32m   3811\u001b[0m         \u001b[38;5;28;01mraise\u001b[39;00m InvalidIndexError(key)\n\u001b[1;32m-> 3812\u001b[0m     \u001b[38;5;28;01mraise\u001b[39;00m \u001b[38;5;167;01mKeyError\u001b[39;00m(key) \u001b[38;5;28;01mfrom\u001b[39;00m \u001b[38;5;21;01merr\u001b[39;00m\n\u001b[0;32m   3813\u001b[0m \u001b[38;5;28;01mexcept\u001b[39;00m \u001b[38;5;167;01mTypeError\u001b[39;00m:\n\u001b[0;32m   3814\u001b[0m     \u001b[38;5;66;03m# If we have a listlike key, _check_indexing_error will raise\u001b[39;00m\n\u001b[0;32m   3815\u001b[0m     \u001b[38;5;66;03m#  InvalidIndexError. Otherwise we fall through and re-raise\u001b[39;00m\n\u001b[0;32m   3816\u001b[0m     \u001b[38;5;66;03m#  the TypeError.\u001b[39;00m\n\u001b[0;32m   3817\u001b[0m     \u001b[38;5;28mself\u001b[39m\u001b[38;5;241m.\u001b[39m_check_indexing_error(key)\n",
      "\u001b[1;31mKeyError\u001b[0m: '행정 기관'"
     ]
    }
   ],
   "source": [
    "\n",
    "x=df['행정 기관']\n",
    "y=df['남 인구수']\n",
    "plt.bar(x,y,label='전국')\n",
    "\n",
    "for i,txt in enumerate(y):\n",
    "    plt.text(x[i],y[i],txt,ha='center')\n",
    "plt.legend(loc='upper center')"
   ]
  }
 ],
 "metadata": {
  "kernelspec": {
   "display_name": "Python 3",
   "language": "python",
   "name": "python3"
  },
  "language_info": {
   "codemirror_mode": {
    "name": "ipython",
    "version": 3
   },
   "file_extension": ".py",
   "mimetype": "text/x-python",
   "name": "python",
   "nbconvert_exporter": "python",
   "pygments_lexer": "ipython3",
   "version": "3.12.0"
  }
 },
 "nbformat": 4,
 "nbformat_minor": 2
}
