{
 "cells": [
  {
   "cell_type": "code",
   "execution_count": 14,
   "metadata": {},
   "outputs": [
    {
     "name": "stderr",
     "output_type": "stream",
     "text": [
      "c:\\Python312\\Lib\\site-packages\\openpyxl\\styles\\stylesheet.py:226: UserWarning: Workbook contains no default style, apply openpyxl's default\n",
      "  warn(\"Workbook contains no default style, apply openpyxl's default\")\n"
     ]
    },
    {
     "data": {
      "text/plain": [
       "행정기관\n",
       "전국           1,307\n",
       "서울특별시          276\n",
       "부산광역시           72\n",
       "대구광역시           25\n",
       "인천광역시           82\n",
       "광주광역시           18\n",
       "대전광역시           28\n",
       "울산광역시            4\n",
       "세종특별자치시          6\n",
       "경기도            379\n",
       "강원도             67\n",
       "충청북도            50\n",
       "충청남도            58\n",
       "전라북도            62\n",
       "전라남도            60\n",
       "경상북도            56\n",
       "경상남도            53\n",
       "제주특별자치도         11\n",
       "Name: 100세 이상, dtype: object"
      ]
     },
     "execution_count": 14,
     "metadata": {},
     "output_type": "execute_result"
    }
   ],
   "source": [
    "import pandas as pd\n",
    "df=pd.read_excel('202303_인구.xlsx',skiprows=3,index_col='행정기관',usecols='B,E:Y')\n",
    "df.head(2)\n",
    "df[0:3]\n",
    "df.tail()\n",
    "df['0~4세']\n",
    "df[df.columns[-1]]"
   ]
  },
  {
   "cell_type": "code",
   "execution_count": null,
   "metadata": {},
   "outputs": [],
   "source": []
  }
 ],
 "metadata": {
  "kernelspec": {
   "display_name": "Python 3",
   "language": "python",
   "name": "python3"
  },
  "language_info": {
   "codemirror_mode": {
    "name": "ipython",
    "version": 3
   },
   "file_extension": ".py",
   "mimetype": "text/x-python",
   "name": "python",
   "nbconvert_exporter": "python",
   "pygments_lexer": "ipython3",
   "version": "3.12.0"
  }
 },
 "nbformat": 4,
 "nbformat_minor": 2
}
