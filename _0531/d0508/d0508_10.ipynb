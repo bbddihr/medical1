{
 "cells": [
  {
   "cell_type": "code",
   "execution_count": 3,
   "metadata": {},
   "outputs": [],
   "source": [
    "import pandas as pd\n",
    "df =pd.read_excel('score.xlsx',index_col='지원번호')"
   ]
  },
  {
   "cell_type": "code",
   "execution_count": 6,
   "metadata": {},
   "outputs": [
    {
     "name": "stdout",
     "output_type": "stream",
     "text": [
      "       이름   학교    키  국어  영어  수학  과학  사회 SW특기\n",
      "지원번호                                        \n",
      "4번    김수찬  구로고  187  40  60  70  75  80  NaN\n",
      "5번    김재욱  구로고  188  15  20  10  35  10  NaN\n"
     ]
    }
   ],
   "source": [
    "inputName ='김'\n",
    "filt=df['이름'].str.contains(inputName)\n",
    "if df.loc[filt,'이름'].count()>0:\n",
    "    print(df.loc[filt])\n",
    "else:\n",
    "    print(\"검색한 데이터 없음\")"
   ]
  },
  {
   "cell_type": "code",
   "execution_count": null,
   "metadata": {},
   "outputs": [],
   "source": [
    "# #국어점수 입력받은 점수 이상의 데이터를 출력하시오.\n",
    "# # inputScore=80\n",
    "# # filt=df['국어'].astype(int)>=inputScore\n",
    "# # print(df.loc[filt])\n",
    "\n",
    "# kor_input =int(input(\"국어점수를 입력하세요.>>\"))\n",
    "# filt = df['국어'] >= kor_input\n",
    "# if df.loc[filt,'국어'].count() >0:\n",
    "#     print(df[filt])\n",
    "# else:\n",
    "#     print(\"데어터가 없습니다.\")"
   ]
  },
  {
   "cell_type": "code",
   "execution_count": null,
   "metadata": {},
   "outputs": [],
   "source": [
    "import pandas as pd\n",
    "a=\"내일은 날씨가 맑음.안녕 다음에 봐요.\"\n",
    "#안녕->반가워\n",
    "# a.replace('안녕','반가워')\n",
    "\n",
    "a_list=[a,'반갑습니다. 안녕','내일봐요. 내일은 날씨가 좋아요. 안녕']\n",
    "data = {\"title\":a_list}\n",
    "df= pd.DataFrame(data)\n",
    "\n",
    "df.iloc['title'] = df['title'].str.replace('안녕','반가워')\n",
    "df"
   ]
  }
 ],
 "metadata": {
  "kernelspec": {
   "display_name": "Python 3",
   "language": "python",
   "name": "python3"
  },
  "language_info": {
   "codemirror_mode": {
    "name": "ipython",
    "version": 3
   },
   "file_extension": ".py",
   "mimetype": "text/x-python",
   "name": "python",
   "nbconvert_exporter": "python",
   "pygments_lexer": "ipython3",
   "version": "3.12.0"
  }
 },
 "nbformat": 4,
 "nbformat_minor": 2
}
