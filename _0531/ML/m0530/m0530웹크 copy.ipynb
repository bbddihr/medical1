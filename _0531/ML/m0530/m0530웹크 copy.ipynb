{
 "cells": [
  {
   "cell_type": "code",
   "execution_count": 2,
   "metadata": {},
   "outputs": [],
   "source": [
    "from selenium import webdriver\n",
    "from selenium.webdriver.common.by import By\n",
    "import pandas as pd\n",
    "import time\n",
    "import random\n"
   ]
  },
  {
   "cell_type": "code",
   "execution_count": 3,
   "metadata": {},
   "outputs": [
    {
     "ename": "NameError",
     "evalue": "name 'lists' is not defined",
     "output_type": "error",
     "traceback": [
      "\u001b[1;31m---------------------------------------------------------------------------\u001b[0m",
      "\u001b[1;31mNameError\u001b[0m                                 Traceback (most recent call last)",
      "Cell \u001b[1;32mIn[3], line 4\u001b[0m\n\u001b[0;32m      2\u001b[0m category \u001b[38;5;241m=\u001b[39m []\n\u001b[0;32m      3\u001b[0m content\u001b[38;5;241m=\u001b[39m[]\n\u001b[1;32m----> 4\u001b[0m \u001b[38;5;28;01mfor\u001b[39;00m i \u001b[38;5;129;01min\u001b[39;00m \u001b[38;5;28mrange\u001b[39m(\u001b[38;5;28mlen\u001b[39m(\u001b[43mlists\u001b[49m)):\n\u001b[0;32m      5\u001b[0m     \u001b[38;5;66;03m# 상세페이지 title,category,content 가져오기 예시\u001b[39;00m\n\u001b[0;32m      6\u001b[0m     url \u001b[38;5;241m=\u001b[39m lists[i]\n\u001b[0;32m      7\u001b[0m     res \u001b[38;5;241m=\u001b[39m requests\u001b[38;5;241m.\u001b[39mget(url)\n",
      "\u001b[1;31mNameError\u001b[0m: name 'lists' is not defined"
     ]
    }
   ],
   "source": [
    "title = []\n",
    "category = []\n",
    "content=[]\n",
    "for i in range(len(lists)):\n",
    "    # 상세페이지 title,category,content 가져오기 예시\n",
    "    url = lists[i]\n",
    "    res = requests.get(url)\n",
    "    res.raise_for_status()\n",
    "    # 데이터 불러오기\n",
    "    soup = BeautifulSoup(res.text,'lxml')\n",
    "    # title\n",
    "    title.append(soup.find(\"a\",{\"class\":\"Wu5cnaNH\"}).text)\n",
    "    # category\n",
    "    category.append(soup.find(\"ul\",{\"class\":\"cvIQfS6I\"}).text)\n",
    "    # content\n",
    "    contents = soup.find(\"div\",{\"class\":\"_0NDK1MJM\"})\n",
    "    cont = contents.find(\"span\",{\"id\":\"개요\"}).parent.nextSibling.text\n",
    "    content.append(cont)"
   ]
  }
 ],
 "metadata": {
  "kernelspec": {
   "display_name": "Python 3",
   "language": "python",
   "name": "python3"
  },
  "language_info": {
   "codemirror_mode": {
    "name": "ipython",
    "version": 3
   },
   "file_extension": ".py",
   "mimetype": "text/x-python",
   "name": "python",
   "nbconvert_exporter": "python",
   "pygments_lexer": "ipython3",
   "version": "3.12.3"
  }
 },
 "nbformat": 4,
 "nbformat_minor": 2
}
