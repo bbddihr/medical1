{
 "cells": [
  {
   "cell_type": "code",
   "execution_count": 121,
   "metadata": {},
   "outputs": [],
   "source": [
    "from sklearn import svm,metrics\n",
    "from sklearn.model_selection import train_test_split\n",
    "import pandas as pd\n",
    "import numpy as np\n",
    "import matplotlib.pyplot as plt\n",
    "import matplotlib\n",
    "import random\n",
    "matplotlib.rcParams['font.family']='Malgun Gothic'  #한글설정\n",
    "matplotlib.rcParams['font.size']= 10  #글자크기\n",
    "matplotlib.rcParams['axes.unicode_minus'] = False"
   ]
  },
  {
   "cell_type": "code",
   "execution_count": 122,
   "metadata": {},
   "outputs": [],
   "source": [
    "# [ 도미 ]\n",
    "bream_length = [25.4, 26.3, 26.5, 29.0, 29.0, 29.7, 29.7, 30.0, 30.0, 30.7, 31.0, 31.0, 31.5, 32.0, 32.0, 32.0, 33.0, 33.0,\n",
    "33.5, 33.5, 34.0, 34.0, 34.5, 35.0, 35.0, 35.0, 35.0, 36.0, 36.0, 37.0, 38.5, 38.5, 39.5, 41.0, 41.0]\n",
    "bream_weight = [242.0, 290.0, 340.0, 363.0, 430.0, 450.0, 500.0, 390.0, 450.0, 500.0, 475.0, 500.0, 500.0, 340.0, 600.0, 600.0, 700.0, 700.0,\n",
    "610.0, 650.0, 575.0, 685.0, 620.0, 680.0, 700.0, 725.0, 720.0, 714.0, 850.0, 1000.0, 920.0, 955.0, 925.0, 975.0, 950.0]\n",
    "# [ 빙어 ]\n",
    "smelt_length = [9.8, 10.5, 10.6, 11.0, 11.2, 11.3, 11.8, 11.8, 12.0, 12.2, 12.4, 13.0, 14.3, 15.0]\n",
    "smelt_weight = [6.7, 7.5, 7.0, 9.7, 9.8, 8.7, 10.0, 9.9, 9.8, 12.2, 13.4, 12.2, 19.7, 19.9]\n"
   ]
  },
  {
   "cell_type": "code",
   "execution_count": 123,
   "metadata": {},
   "outputs": [
    {
     "data": {
      "text/plain": [
       "<matplotlib.collections.PathCollection at 0x1e7e169a930>"
      ]
     },
     "execution_count": 123,
     "metadata": {},
     "output_type": "execute_result"
    },
    {
     "data": {
      "image/png": "[encoded data removed]",
      "text/plain": [
       "<Figure size 640x480 with 1 Axes>"
      ]
     },
     "metadata": {},
     "output_type": "display_data"
    }
   ],
   "source": [
    "plt.scatter(bream_length,bream_weight)\n",
    "plt.scatter(smelt_length,smelt_weight)"
   ]
  },
  {
   "cell_type": "code",
   "execution_count": null,
   "metadata": {},
   "outputs": [],
   "source": [
    "train_input= [datas[i] for i in idx[:35]]\n",
    "test_input=[datas[i] for i in idx[35:]]\n",
    "train_target =[results[i] for i in idx[:35]]\n",
    "test_target = [results[i] for i in idx[35:]]"
   ]
  },
  {
   "cell_type": "code",
   "execution_count": 145,
   "metadata": {},
   "outputs": [
    {
     "data": {
      "text/html": [
       "<div>\n",
       "<style scoped>\n",
       "    .dataframe tbody tr th:only-of-type {\n",
       "        vertical-align: middle;\n",
       "    }\n",
       "\n",
       "    .dataframe tbody tr th {\n",
       "        vertical-align: top;\n",
       "    }\n",
       "\n",
       "    .dataframe thead th {\n",
       "        text-align: right;\n",
       "    }\n",
       "</style>\n",
       "<table border=\"1\" class=\"dataframe\">\n",
       "  <thead>\n",
       "    <tr style=\"text-align: right;\">\n",
       "      <th></th>\n",
       "      <th>0</th>\n",
       "      <th>1</th>\n",
       "    </tr>\n",
       "  </thead>\n",
       "  <tbody>\n",
       "    <tr>\n",
       "      <th>0</th>\n",
       "      <td>33.5</td>\n",
       "      <td>610.0</td>\n",
       "    </tr>\n",
       "  </tbody>\n",
       "</table>\n",
       "</div>"
      ],
      "text/plain": [
       "      0      1\n",
       "0  33.5  610.0"
      ]
     },
     "execution_count": 145,
     "metadata": {},
     "output_type": "execute_result"
    }
   ],
   "source": [
    "df_train =pd.DataFrame(train_input)\n",
    "df_train.head(1)\n",
    "df_test =pd.DataFrame(test_input)\n",
    "df_test.head(1)"
   ]
  },
  {
   "cell_type": "code",
   "execution_count": 148,
   "metadata": {},
   "outputs": [
    {
     "data": {
      "text/plain": [
       "<matplotlib.collections.PathCollection at 0x1e7e5b8d520>"
      ]
     },
     "execution_count": 148,
     "metadata": {},
     "output_type": "execute_result"
    },
    {
     "data": {
      "image/png": "[encoded data removed]",
      "text/plain": [
       "<Figure size 640x480 with 1 Axes>"
      ]
     },
     "metadata": {},
     "output_type": "display_data"
    }
   ],
   "source": [
    "plt.scatter(train_input[0],train_input[1])\n",
    "plt.scatter(test_input[0],test_input[1])"
   ]
  },
  {
   "cell_type": "code",
   "execution_count": 124,
   "metadata": {},
   "outputs": [
    {
     "data": {
      "text/plain": [
       "14"
      ]
     },
     "execution_count": 124,
     "metadata": {},
     "output_type": "execute_result"
    }
   ],
   "source": [
    "len(bream_length) # 도미데이터  -35\n",
    "len(smelt_length)  # 빙어데이터  -14\n"
   ]
  },
  {
   "cell_type": "code",
   "execution_count": 147,
   "metadata": {},
   "outputs": [
    {
     "data": {
      "text/plain": [
       "[1,\n",
       " 1,\n",
       " 1,\n",
       " 1,\n",
       " 1,\n",
       " 1,\n",
       " 1,\n",
       " 1,\n",
       " 1,\n",
       " 1,\n",
       " 1,\n",
       " 1,\n",
       " 1,\n",
       " 1,\n",
       " 1,\n",
       " 1,\n",
       " 1,\n",
       " 1,\n",
       " 1,\n",
       " 1,\n",
       " 1,\n",
       " 1,\n",
       " 1,\n",
       " 1,\n",
       " 1,\n",
       " 1,\n",
       " 1,\n",
       " 1,\n",
       " 1,\n",
       " 1,\n",
       " 1,\n",
       " 1,\n",
       " 1,\n",
       " 1,\n",
       " 1,\n",
       " 0,\n",
       " 0,\n",
       " 0,\n",
       " 0,\n",
       " 0,\n",
       " 0,\n",
       " 0,\n",
       " 0,\n",
       " 0,\n",
       " 0,\n",
       " 0,\n",
       " 0,\n",
       " 0,\n",
       " 0]"
      ]
     },
     "execution_count": 147,
     "metadata": {},
     "output_type": "execute_result"
    }
   ],
   "source": [
    "### length -> 합치기 ( bream_length,smelt_length)\n",
    "### weight -> 합치기(bream_weight, smelt_weight)\n",
    "length=bream_length+smelt_length\n",
    "weight=bream_weight+smelt_weight\n",
    "len(length)   #49개\n",
    "len(weight)\n",
    "results = [1]*35 +[0]*14   #1: 도미, 0:빙어\n",
    "# ## datas = length, weight 합치기\n",
    "\n",
    "#zip() 반복해서 각각 list데이터를 1개씩 뽑아서 전달해줌.\n",
    "# datas=[[l,w,r] for l,w,r in zip(length,weight,results)]\n",
    "# datas\n",
    "df=pd.DataFrame(datas)\n",
    "\n",
    "datas=[[l,w] for l,w in zip(length,weight)]\n",
    "datas\n",
    "results\n",
    "\n",
    "## 개수 : 49개\n",
    "\n",
    "##train_input, test_input, \n",
    "##train_target, test_target"
   ]
  },
  {
   "cell_type": "code",
   "execution_count": 126,
   "metadata": {},
   "outputs": [],
   "source": [
    "\n",
    "### length -> 합치기 (bream_length,smelt_length)\n",
    "### weight -> 합치기 (bream_weight,smelt_weight)\n",
    "### 도미 : 1, 빙어 : 0\n",
    "### results = [1] * 35, [0] * 14\n",
    "### datas = [ length, weight,results ] 합치기\n",
    "### [ [ length,weight ] , [ length,weight ] , [ length,weight ] , [ ] , ....     ]\n",
    "### 개수 : 49개\n",
    "### train_input,test_input,\n",
    "### train_target,test_target"
   ]
  },
  {
   "cell_type": "code",
   "execution_count": 127,
   "metadata": {},
   "outputs": [
    {
     "data": {
      "text/plain": [
       "49"
      ]
     },
     "execution_count": 127,
     "metadata": {},
     "output_type": "execute_result"
    }
   ],
   "source": [
    "len(datas)"
   ]
  },
  {
   "cell_type": "code",
   "execution_count": 128,
   "metadata": {},
   "outputs": [],
   "source": [
    "##datas, results 49개를\n",
    "# 파이썬 random함수를 사용해서 49개 중 35개 데이터는 train_input, train_target\n",
    "# 14개는 test_input, test_target\n",
    "# 출력하시오."
   ]
  },
  {
   "cell_type": "code",
   "execution_count": null,
   "metadata": {},
   "outputs": [],
   "source": [
    "idx=[i for i in range(49)]\n",
    "random.shuffle(idx)\n",
    "idx"
   ]
  },
  {
   "cell_type": "code",
   "execution_count": 138,
   "metadata": {},
   "outputs": [
    {
     "data": {
      "text/plain": [
       "[[34.5, 620.0],\n",
       " [32.0, 600.0],\n",
       " [26.5, 340.0],\n",
       " [13.0, 12.2],\n",
       " [15.0, 19.9],\n",
       " [33.5, 650.0],\n",
       " [11.2, 9.8],\n",
       " [29.0, 363.0],\n",
       " [29.0, 430.0],\n",
       " [35.0, 680.0],\n",
       " [35.0, 700.0],\n",
       " [31.0, 475.0],\n",
       " [12.0, 9.8],\n",
       " [39.5, 925.0],\n",
       " [34.0, 685.0],\n",
       " [11.8, 10.0],\n",
       " [31.0, 500.0],\n",
       " [9.8, 6.7],\n",
       " [33.0, 700.0],\n",
       " [29.7, 450.0],\n",
       " [10.6, 7.0],\n",
       " [37.0, 1000.0],\n",
       " [30.0, 450.0],\n",
       " [10.5, 7.5],\n",
       " [38.5, 920.0],\n",
       " [30.7, 500.0],\n",
       " [33.0, 700.0],\n",
       " [11.8, 9.9],\n",
       " [41.0, 950.0],\n",
       " [11.0, 9.7],\n",
       " [14.3, 19.7],\n",
       " [12.4, 13.4],\n",
       " [38.5, 955.0],\n",
       " [29.7, 500.0],\n",
       " [36.0, 714.0]]"
      ]
     },
     "execution_count": 138,
     "metadata": {},
     "output_type": "execute_result"
    }
   ],
   "source": [
    "#dataFrame사용하지 않고, for문을 사용해서 35,14개를 분리해서 출력하시오.\n",
    "a=[datas[i] for i in idx[:35]]\n",
    "a"
   ]
  },
  {
   "cell_type": "code",
   "execution_count": 130,
   "metadata": {},
   "outputs": [],
   "source": [
    "# len(df.iloc[idx[:35],:])  #35개\n",
    "# df.iloc[idx[:35],:]\n",
    "\n",
    "\n",
    "# len(df.iloc[idx[35:],:])  #14개\n",
    "\n"
   ]
  },
  {
   "cell_type": "code",
   "execution_count": 131,
   "metadata": {},
   "outputs": [],
   "source": [
    "#데이터 전처리\n",
    "# train_input = df.iloc[idx[:35],:-1]\n",
    "# test_input = df.iloc[idx[35:],:-1]\n",
    "# train_target = df.iloc[idx[:35],2]\n",
    "# test_target = df.iloc[idx[35:],2]\n"
   ]
  },
  {
   "cell_type": "code",
   "execution_count": 139,
   "metadata": {},
   "outputs": [],
   "source": [
    "#dataFrame사용하지 않고, for문을 사용해서 35,14개를 분리해서 출력하시오.\n",
    "\n",
    "train_input= [datas[i] for i in idx[:35]]\n",
    "test_input=[datas[i] for i in idx[35:]]\n",
    "train_target =[results[i] for i in idx[:35]]\n",
    "test_target = [results[i] for i in idx[35:]]"
   ]
  },
  {
   "cell_type": "code",
   "execution_count": 140,
   "metadata": {},
   "outputs": [
    {
     "data": {
      "text/plain": [
       "14"
      ]
     },
     "execution_count": 140,
     "metadata": {},
     "output_type": "execute_result"
    }
   ],
   "source": [
    "len(test_input)"
   ]
  },
  {
   "cell_type": "code",
   "execution_count": 134,
   "metadata": {},
   "outputs": [],
   "source": [
    "# r=results[:35]\n",
    "\n",
    "# datas=[[l,w,r] for l,w,r in zip(length,weight,r)]\n",
    "# len(datas)\n",
    "\n",
    "# r1=results[35:]\n",
    "# datas=[[l,w,r1] for l,w,r1 in zip(length,weight,r1)]\n",
    "# len(datas)"
   ]
  },
  {
   "cell_type": "code",
   "execution_count": 135,
   "metadata": {},
   "outputs": [
    {
     "data": {
      "text/plain": [
       "[[25.4, 242.0],\n",
       " [26.3, 290.0],\n",
       " [26.5, 340.0],\n",
       " [29.0, 363.0],\n",
       " [29.0, 430.0],\n",
       " [29.7, 450.0],\n",
       " [29.7, 500.0],\n",
       " [30.0, 390.0],\n",
       " [30.0, 450.0],\n",
       " [30.7, 500.0],\n",
       " [31.0, 475.0],\n",
       " [31.0, 500.0],\n",
       " [31.5, 500.0],\n",
       " [32.0, 340.0],\n",
       " [32.0, 600.0],\n",
       " [32.0, 600.0],\n",
       " [33.0, 700.0],\n",
       " [33.0, 700.0],\n",
       " [33.5, 610.0],\n",
       " [33.5, 650.0],\n",
       " [34.0, 575.0],\n",
       " [34.0, 685.0],\n",
       " [34.5, 620.0],\n",
       " [35.0, 680.0],\n",
       " [35.0, 700.0],\n",
       " [35.0, 725.0],\n",
       " [35.0, 720.0],\n",
       " [36.0, 714.0],\n",
       " [36.0, 850.0],\n",
       " [37.0, 1000.0],\n",
       " [38.5, 920.0],\n",
       " [38.5, 955.0],\n",
       " [39.5, 925.0],\n",
       " [41.0, 975.0],\n",
       " [41.0, 950.0],\n",
       " [9.8, 6.7],\n",
       " [10.5, 7.5],\n",
       " [10.6, 7.0],\n",
       " [11.0, 9.7],\n",
       " [11.2, 9.8],\n",
       " [11.3, 8.7],\n",
       " [11.8, 10.0],\n",
       " [11.8, 9.9],\n",
       " [12.0, 9.8],\n",
       " [12.2, 12.2],\n",
       " [12.4, 13.4],\n",
       " [13.0, 12.2],\n",
       " [14.3, 19.7],\n",
       " [15.0, 19.9]]"
      ]
     },
     "execution_count": 135,
     "metadata": {},
     "output_type": "execute_result"
    }
   ],
   "source": [
    "datas"
   ]
  },
  {
   "cell_type": "code",
   "execution_count": 155,
   "metadata": {},
   "outputs": [],
   "source": [
    "train_input= [datas[i] for i in idx[:35]]\n",
    "test_input=[datas[i] for i in idx[35:]]\n",
    "train_target =[results[i] for i in idx[:35]]\n",
    "test_target = [results[i] for i in idx[35:]]"
   ]
  },
  {
   "cell_type": "code",
   "execution_count": 154,
   "metadata": {},
   "outputs": [
    {
     "data": {
      "text/html": [
       "<div>\n",
       "<style scoped>\n",
       "    .dataframe tbody tr th:only-of-type {\n",
       "        vertical-align: middle;\n",
       "    }\n",
       "\n",
       "    .dataframe tbody tr th {\n",
       "        vertical-align: top;\n",
       "    }\n",
       "\n",
       "    .dataframe thead th {\n",
       "        text-align: right;\n",
       "    }\n",
       "</style>\n",
       "<table border=\"1\" class=\"dataframe\">\n",
       "  <thead>\n",
       "    <tr style=\"text-align: right;\">\n",
       "      <th></th>\n",
       "      <th>0</th>\n",
       "      <th>1</th>\n",
       "    </tr>\n",
       "  </thead>\n",
       "  <tbody>\n",
       "    <tr>\n",
       "      <th>0</th>\n",
       "      <td>33.5</td>\n",
       "      <td>610.0</td>\n",
       "    </tr>\n",
       "  </tbody>\n",
       "</table>\n",
       "</div>"
      ],
      "text/plain": [
       "      0      1\n",
       "0  33.5  610.0"
      ]
     },
     "execution_count": 154,
     "metadata": {},
     "output_type": "execute_result"
    }
   ],
   "source": [
    "df_train =pd.DataFrame(train_input)\n",
    "df_train.head(1)\n",
    "df_test =pd.DataFrame(test_input)\n",
    "df_test.head(1)"
   ]
  },
  {
   "cell_type": "code",
   "execution_count": null,
   "metadata": {},
   "outputs": [],
   "source": []
  },
  {
   "cell_type": "code",
   "execution_count": 173,
   "metadata": {},
   "outputs": [
    {
     "data": {
      "text/plain": [
       "<matplotlib.collections.PathCollection at 0x1e7e708d520>"
      ]
     },
     "execution_count": 173,
     "metadata": {},
     "output_type": "execute_result"
    },
    {
     "data": {
      "image/png": "[encoded data removed]",
      "text/plain": [
       "<Figure size 640x480 with 1 Axes>"
      ]
     },
     "metadata": {},
     "output_type": "display_data"
    }
   ],
   "source": [
    "### 도미 : 1, 빙어 : 0\n",
    "\n",
    "plt.scatter(df_train[0],df_train[1])\n",
    "plt.scatter(df_test[0],df_test[1])\n",
    "plt.scatter(30,600,marker='D')\n",
    "plt.scatter(25,150,marker='X')"
   ]
  },
  {
   "cell_type": "code",
   "execution_count": 166,
   "metadata": {},
   "outputs": [
    {
     "name": "stdout",
     "output_type": "stream",
     "text": [
      "예측데이터값:  [1 1 1 0 1 0 1 1 1 1 1 1 1 1]\n",
      "정답률:  1.0\n"
     ]
    }
   ],
   "source": [
    "#데이터 학습하기\n",
    "from sklearn.neighbors import KNeighborsClassifier\n",
    "# clf=svm.SVC()\n",
    "clf=KNeighborsClassifier()\n",
    "clf.fit(train_input,train_target)\n",
    "\n",
    "pre=clf.predict(test_input)\n",
    "score=clf.score(test_input,test_target)\n",
    "print(\"예측데이터값: \",pre)\n",
    "print(\"정답률: \",score)\n",
    "                    "
   ]
  },
  {
   "cell_type": "code",
   "execution_count": 174,
   "metadata": {},
   "outputs": [],
   "source": [
    "#train_input 몇번째 index 데이터를 사용했는지 알려줌.\n",
    "distances,indexs=clf.kneighbors([[25,150]])\n"
   ]
  },
  {
   "cell_type": "code",
   "execution_count": 180,
   "metadata": {},
   "outputs": [
    {
     "data": {
      "text/plain": [
       "4     15.0\n",
       "30    14.3\n",
       "31    12.4\n",
       "3     13.0\n",
       "15    11.8\n",
       "Name: 0, dtype: float64"
      ]
     },
     "execution_count": 180,
     "metadata": {},
     "output_type": "execute_result"
    }
   ],
   "source": [
    "df_train.iloc[indexs[0],0]"
   ]
  },
  {
   "cell_type": "code",
   "execution_count": 182,
   "metadata": {},
   "outputs": [
    {
     "data": {
      "text/plain": [
       "<matplotlib.collections.PathCollection at 0x1e7eb48f8c0>"
      ]
     },
     "execution_count": 182,
     "metadata": {},
     "output_type": "execute_result"
    },
    {
     "data": {
      "image/png": "[encoded data removed]",
      "text/plain": [
       "<Figure size 640x480 with 1 Axes>"
      ]
     },
     "metadata": {},
     "output_type": "display_data"
    }
   ],
   "source": [
    "### 도미 : 1, 빙어 : 0\n",
    "plt.xlim(0,1000)    #x축 y축 수치를 통일시켜서 kneighbor 어디에 더근접한지?\n",
    "plt.scatter(df_train[0],df_train[1])\n",
    "plt.scatter(df_test[0],df_test[1])\n",
    "plt.scatter(df_train.iloc[indexs[0],0],df_train.iloc[indexs[0],1])\n",
    "plt.scatter(25,150,marker='X')"
   ]
  },
  {
   "cell_type": "code",
   "execution_count": 167,
   "metadata": {},
   "outputs": [
    {
     "name": "stdout",
     "output_type": "stream",
     "text": [
      "예측데이터값:  [1]\n"
     ]
    }
   ],
   "source": [
    "#길이 30, 무게 600 고기 무엇인지 판단하시오.\n",
    "#[30,600]\n",
    "pre=clf.predict([[30,600]])\n",
    "print(\"예측데이터값: \",pre)\n",
    "# score=clf.score(test_input,test_target)\n",
    "# print(\"정답률: \",score)"
   ]
  },
  {
   "cell_type": "code",
   "execution_count": 171,
   "metadata": {},
   "outputs": [
    {
     "name": "stdout",
     "output_type": "stream",
     "text": [
      "예측데이터값:  [0]\n"
     ]
    }
   ],
   "source": [
    "# 길이 25, 무게 150 고기는 무엇인지 맞춰보시오\n",
    "pre=clf.predict([[25,150]])\n",
    "print(\"예측데이터값: \",pre)"
   ]
  },
  {
   "cell_type": "code",
   "execution_count": null,
   "metadata": {},
   "outputs": [],
   "source": [
    "plt.scatter(df_train[0],df_train[1])\n",
    "plt.scatter(df_test[0],df_test[1])\n",
    "plt.scatter(30,600,marker='D')\n",
    "plt.scatter(25,150,marker='^')"
   ]
  }
 ],
 "metadata": {
  "kernelspec": {
   "display_name": "Python 3",
   "language": "python",
   "name": "python3"
  },
  "language_info": {
   "codemirror_mode": {
    "name": "ipython",
    "version": 3
   },
   "file_extension": ".py",
   "mimetype": "text/x-python",
   "name": "python",
   "nbconvert_exporter": "python",
   "pygments_lexer": "ipython3",
   "version": "3.12.0"
  }
 },
 "nbformat": 4,
 "nbformat_minor": 2
}
